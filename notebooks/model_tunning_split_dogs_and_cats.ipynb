{
  "nbformat": 4,
  "nbformat_minor": 0,
  "metadata": {
    "colab": {
      "name": "model-tunning-split-dogs-and-cats.ipynb",
      "provenance": [],
      "collapsed_sections": [],
      "include_colab_link": true
    },
    "kernelspec": {
      "name": "python3",
      "display_name": "Python 3"
    },
    "language_info": {
      "name": "python"
    }
  },
  "cells": [
    {
      "cell_type": "markdown",
      "metadata": {
        "id": "view-in-github",
        "colab_type": "text"
      },
      "source": [
        "<a href=\"https://colab.research.google.com/github/nicolezk/pet-adoption-prediction/blob/main/notebooks/model_tunning_split_dogs_and_cats.ipynb\" target=\"_parent\"><img src=\"https://colab.research.google.com/assets/colab-badge.svg\" alt=\"Open In Colab\"/></a>"
      ]
    },
    {
      "cell_type": "markdown",
      "source": [
        "## Notebook Configuration"
      ],
      "metadata": {
        "id": "4giVI5QYt0Eo"
      }
    },
    {
      "cell_type": "code",
      "source": [
        "# Mount Google Drive to obtain the data\n",
        "from google.colab import drive\n",
        "drive.mount('/content/drive')"
      ],
      "metadata": {
        "id": "5aqGbw3st_cH",
        "colab": {
          "base_uri": "https://localhost:8080/"
        },
        "outputId": "3bc4087c-a3e1-4e39-a7c7-aacda3bf7b19"
      },
      "execution_count": null,
      "outputs": [
        {
          "output_type": "stream",
          "name": "stdout",
          "text": [
            "Drive already mounted at /content/drive; to attempt to forcibly remount, call drive.mount(\"/content/drive\", force_remount=True).\n"
          ]
        }
      ]
    },
    {
      "cell_type": "code",
      "source": [
        "# Import libraries\n",
        "import pandas as pd\n",
        "import numpy as np\n",
        "\n",
        "from sklearn.compose import ColumnTransformer, make_column_selector as selector\n",
        "from sklearn.ensemble import RandomForestClassifier\n",
        "from sklearn.linear_model import Ridge, Lasso, LogisticRegression\n",
        "from sklearn.metrics import classification_report, confusion_matrix, ConfusionMatrixDisplay, mean_squared_error\n",
        "from sklearn.model_selection import train_test_split, GridSearchCV, RandomizedSearchCV\n",
        "from sklearn.pipeline import Pipeline\n",
        "from sklearn.preprocessing import MinMaxScaler, OneHotEncoder, StandardScaler\n",
        "from sklearn.utils import resample\n",
        "\n",
        "from xgboost import XGBClassifier\n",
        "\n",
        "seed = 123"
      ],
      "metadata": {
        "id": "DwVomMlKvOc9"
      },
      "execution_count": null,
      "outputs": []
    },
    {
      "cell_type": "code",
      "source": [
        "def balance_classes(df):\n",
        "  # Balance classes\n",
        "  # print('Target distribution before balancing:')\n",
        "  # print(df.AdoptionSpeed.value_counts(dropna=False))\n",
        "\n",
        "  def round_down(x, k=3):\n",
        "    n = 10**k\n",
        "    return x // n * n\n",
        "\n",
        "  balance_number = int(round_down(df[df.AdoptionSpeed!=0].AdoptionSpeed.value_counts(dropna=False).min(), 3))\n",
        "\n",
        "  # Separate majority and minority classes\n",
        "  # Minority\n",
        "  df_label0 = df[df.AdoptionSpeed==0]\n",
        "\n",
        "  # Majority\n",
        "  df_label1 = df[df.AdoptionSpeed==1]\n",
        "  df_label2 = df[df.AdoptionSpeed==2]\n",
        "  df_label3 = df[df.AdoptionSpeed==3]\n",
        "  df_label4 = df[df.AdoptionSpeed==4]\n",
        "  \n",
        "  # Upsample minority class\n",
        "  df_label0 = resample(df_label0, \n",
        "                        replace=True,     # sample with replacement\n",
        "                        n_samples=balance_number,    \n",
        "                        random_state=seed) # reproducible results\n",
        "\n",
        "  # Downsample majority classes\n",
        "  df_label1 = resample(df_label1, replace=False, n_samples=balance_number, random_state=seed)\n",
        "  df_label2 = resample(df_label2, replace=False, n_samples=balance_number, random_state=seed)\n",
        "  df_label3 = resample(df_label3, replace=False, n_samples=balance_number, random_state=seed)\n",
        "  df_label4 = resample(df_label4, replace=False, n_samples=balance_number, random_state=seed)\n",
        "\n",
        "  # Combine back the df\n",
        "  df = pd.concat([df_label0, df_label1, df_label2, df_label3, df_label4])\n",
        "\n",
        "  # print('\\nTarget distribution after balancing:')\n",
        "  # print(df.AdoptionSpeed.value_counts(dropna=False))\n",
        "\n",
        "  return df\n",
        "\n",
        "def feature_selection(df):\n",
        "  # Feature selection\n",
        "  target_feature = 'AdoptionSpeed'\n",
        "  columns = [c for c in df.columns if c not in [target_feature, 'Description']] # at first use all columns\n",
        "  X = df[columns]\n",
        "  y = df[target_feature]\n",
        "  return X, y\n",
        "\n",
        "def preprocessing(split=None):\n",
        "  # Read data\n",
        "  df = pd.read_csv('/content/drive/MyDrive/ML - Project/data/pets_feature_engineering.csv')\n",
        "\n",
        "  if split == 'dogs':\n",
        "    df = df[df['Type'] == 1]\n",
        "  elif split == 'cats':\n",
        "    df = df[df['Type'] == 2]\n",
        "\n",
        "  for c in ['Color1Name', 'Color2Name']:\n",
        "    df[c] = df[c].astype(\"category\")\n",
        "\n",
        "  df = balance_classes(df)\n",
        "  \n",
        "  return df\n",
        "\n",
        "def apply_best_model(X_train, X_test):\n",
        "  # Pipeline pre-processing\n",
        "  categorical_transformer = OneHotEncoder(sparse=False, dtype='int', handle_unknown='error')\n",
        "\n",
        "  preprocessor = ColumnTransformer(\n",
        "      transformers=[  ('num', 'passthrough', selector(dtype_exclude=\"category\")),\n",
        "                      ('cat', categorical_transformer, selector(dtype_include=\"category\"))\n",
        "                  ]\n",
        "  )\n",
        "\n",
        "  #  Cross-validation to tune hyperparameters\n",
        "  model_pipeline = Pipeline(\n",
        "      steps=[('preprocessor', preprocessor),\n",
        "            ('classifier', RandomForestClassifier())]\n",
        "  )\n",
        "\n",
        "  param_grid = {\n",
        "      'classifier__n_estimators':  [300],\n",
        "      'classifier__max_depth': [5, 10, 25],\n",
        "      'classifier__min_samples_split': [2, 5, 10],\n",
        "      'classifier__min_samples_leaf': [2, 5, 10],\n",
        "      'classifier__max_features': ['auto', 'sqrt'],\n",
        "      'classifier__bootstrap': [True, False],\n",
        "      'classifier__random_state': [seed]\n",
        "  }\n",
        "\n",
        "  # Use n_iter to specify the number of parameter combinations\n",
        "  # Use random_state as seed for reproducibility\n",
        "  rs = GridSearchCV(model_pipeline, param_grid, n_jobs=-1, scoring='neg_root_mean_squared_error')\n",
        "\n",
        "  rf_classifier = rs.fit(X_train, y_train)\n",
        "\n",
        "  return rf_classifier"
      ],
      "metadata": {
        "id": "uVtz411I2uJJ"
      },
      "execution_count": null,
      "outputs": []
    },
    {
      "cell_type": "code",
      "source": [
        "df = preprocessing()\n",
        "X, y = feature_selection(df)\n",
        "\n",
        "# Train test split\n",
        "X_train, X_test, y_train, y_test = train_test_split(X, y,\n",
        "                                                    stratify=y, \n",
        "                                                    test_size=0.25,\n",
        "                                                    random_state=seed)\n",
        "                                                    \n",
        " \n",
        "best_model = apply_best_model(X_train, X_test)\n",
        "\n",
        "print(best_model.best_estimator_)\n",
        "print('Base model score: ' + str(best_model.best_score_))"
      ],
      "metadata": {
        "colab": {
          "base_uri": "https://localhost:8080/"
        },
        "id": "QXHaAMvk3Lle",
        "outputId": "20721c28-687e-4ade-b63d-ed81f252afd9"
      },
      "execution_count": null,
      "outputs": [
        {
          "output_type": "stream",
          "name": "stdout",
          "text": [
            "Pipeline(steps=[('preprocessor',\n",
            "                 ColumnTransformer(transformers=[('num', 'passthrough',\n",
            "                                                  <sklearn.compose._column_transformer.make_column_selector object at 0x7f56dbe1f090>),\n",
            "                                                 ('cat',\n",
            "                                                  OneHotEncoder(dtype='int',\n",
            "                                                                sparse=False),\n",
            "                                                  <sklearn.compose._column_transformer.make_column_selector object at 0x7f56dbe1f450>)])),\n",
            "                ('classifier',\n",
            "                 RandomForestClassifier(bootstrap=False, max_depth=25,\n",
            "                                        min_samples_leaf=2, min_samples_split=5,\n",
            "                                        n_estimators=300, random_state=123))])\n",
            "Base model score: -1.271226088442211\n"
          ]
        }
      ]
    },
    {
      "cell_type": "markdown",
      "source": [
        "Base model score: -1.256761476922338\n",
        "\n",
        "```Parameters:\n",
        "      'classifier__n_estimators':  [300],\n",
        "      'classifier__max_depth': [25],\n",
        "      'classifier__bootstrap': [False],\n",
        "      'classifier__random_state': [seed]\n",
        "  }```"
      ],
      "metadata": {
        "id": "2kEGDKuW-Oo6"
      }
    },
    {
      "cell_type": "code",
      "source": [
        "df = preprocessing('cats')\n",
        "X, y = feature_selection(df)\n",
        "\n",
        "# Train test split\n",
        "X_train, X_test, y_train, y_test = train_test_split(X, y,\n",
        "                                                    stratify=y, \n",
        "                                                    test_size=0.25,\n",
        "                                                    random_state=seed)\n",
        "                                                    \n",
        "\n",
        "best_model = apply_best_model(X_train, X_test)\n",
        "\n",
        "print(best_model.best_estimator_)\n",
        "print('Only-cats model score: ' + str(best_model.best_score_))"
      ],
      "metadata": {
        "id": "ulx0uSAR0LZ-",
        "colab": {
          "base_uri": "https://localhost:8080/"
        },
        "outputId": "e2a8240d-35e2-410f-d720-833eebcdaad4"
      },
      "execution_count": null,
      "outputs": [
        {
          "output_type": "stream",
          "name": "stdout",
          "text": [
            "Pipeline(steps=[('preprocessor',\n",
            "                 ColumnTransformer(transformers=[('num', 'passthrough',\n",
            "                                                  <sklearn.compose._column_transformer.make_column_selector object at 0x7f56dbf7ded0>),\n",
            "                                                 ('cat',\n",
            "                                                  OneHotEncoder(dtype='int',\n",
            "                                                                sparse=False),\n",
            "                                                  <sklearn.compose._column_transformer.make_column_selector object at 0x7f56dbf7df10>)])),\n",
            "                ('classifier',\n",
            "                 RandomForestClassifier(bootstrap=False, max_depth=25,\n",
            "                                        min_samples_split=5, n_estimators=300,\n",
            "                                        random_state=123))])\n",
            "Only-cats model score: -1.3305087962896056\n"
          ]
        }
      ]
    },
    {
      "cell_type": "markdown",
      "source": [
        "Only-cats model score: -1.3359151974406172\n",
        "\n",
        "```Parameters:\n",
        "      'classifier__n_estimators':  [300],\n",
        "      'classifier__max_depth': [25],\n",
        "      'classifier__bootstrap': [False],\n",
        "      'classifier__random_state': [seed]\n",
        "  }```"
      ],
      "metadata": {
        "id": "aAZkhxLj-b1w"
      }
    },
    {
      "cell_type": "code",
      "source": [
        "df = preprocessing('dogs')\n",
        "X, y = feature_selection(df)\n",
        "\n",
        "# Train test split\n",
        "X_train, X_test, y_train, y_test = train_test_split(X, y,\n",
        "                                                    stratify=y, \n",
        "                                                    test_size=0.25,\n",
        "                                                    random_state=seed)\n",
        "                                                    \n",
        "\n",
        "best_model = apply_best_model(X_train, X_test)\n",
        "\n",
        "print(best_model.best_estimator_)\n",
        "print('Only-dogs model score: ' + str(best_model.best_score_))"
      ],
      "metadata": {
        "colab": {
          "base_uri": "https://localhost:8080/"
        },
        "id": "kK8qHtdj9Joh",
        "outputId": "686c8c6a-d726-4882-e8fa-813d27bffe3a"
      },
      "execution_count": null,
      "outputs": [
        {
          "output_type": "stream",
          "name": "stdout",
          "text": [
            "Pipeline(steps=[('preprocessor',\n",
            "                 ColumnTransformer(transformers=[('num', 'passthrough',\n",
            "                                                  <sklearn.compose._column_transformer.make_column_selector object at 0x7f56db2b9350>),\n",
            "                                                 ('cat',\n",
            "                                                  OneHotEncoder(dtype='int',\n",
            "                                                                sparse=False),\n",
            "                                                  <sklearn.compose._column_transformer.make_column_selector object at 0x7f56db2b9050>)])),\n",
            "                ('classifier',\n",
            "                 RandomForestClassifier(bootstrap=False, max_depth=25,\n",
            "                                        n_estimators=300, random_state=123))])\n",
            "Only-dogs model score: -1.2126444186955354\n"
          ]
        }
      ]
    },
    {
      "cell_type": "markdown",
      "source": [
        "Only-dogs model score: -1.2126444186955354\n",
        "\n",
        "```Parameters:\n",
        "      'classifier__n_estimators':  [300],\n",
        "      'classifier__max_depth': [25],\n",
        "      'classifier__bootstrap': [False],\n",
        "      'classifier__random_state': [seed]\n",
        "  }```"
      ],
      "metadata": {
        "id": "qoyWdQ7Z-gWo"
      }
    },
    {
      "cell_type": "code",
      "source": [
        ""
      ],
      "metadata": {
        "id": "jsXQ7v829M7y"
      },
      "execution_count": null,
      "outputs": []
    }
  ]
}