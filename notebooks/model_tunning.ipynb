{
  "nbformat": 4,
  "nbformat_minor": 0,
  "metadata": {
    "colab": {
      "name": "model-tunning.ipynb",
      "provenance": [],
      "collapsed_sections": [
        "AciDmzSrs-14",
        "j15PP11pS-iQ",
        "k3ylynLxy2HQ",
        "Fw8lUyXvNUIX"
      ],
      "include_colab_link": true
    },
    "kernelspec": {
      "name": "python3",
      "display_name": "Python 3"
    },
    "language_info": {
      "name": "python"
    }
  },
  "cells": [
    {
      "cell_type": "markdown",
      "metadata": {
        "id": "view-in-github",
        "colab_type": "text"
      },
      "source": [
        "<a href=\"https://colab.research.google.com/github/nicolezk/pet-adoption-prediction/blob/main/notebooks/model_tunning.ipynb\" target=\"_parent\"><img src=\"https://colab.research.google.com/assets/colab-badge.svg\" alt=\"Open In Colab\"/></a>"
      ]
    },
    {
      "cell_type": "markdown",
      "source": [
        "## Notebook Configuration"
      ],
      "metadata": {
        "id": "4giVI5QYt0Eo"
      }
    },
    {
      "cell_type": "code",
      "source": [
        "# Mount Google Drive to obtain the data\n",
        "from google.colab import drive\n",
        "drive.mount('/content/drive')"
      ],
      "metadata": {
        "id": "5aqGbw3st_cH",
        "colab": {
          "base_uri": "https://localhost:8080/"
        },
        "outputId": "5a3e4114-189f-435b-9e60-4ac48dd37b8b"
      },
      "execution_count": null,
      "outputs": [
        {
          "output_type": "stream",
          "name": "stdout",
          "text": [
            "Drive already mounted at /content/drive; to attempt to forcibly remount, call drive.mount(\"/content/drive\", force_remount=True).\n"
          ]
        }
      ]
    },
    {
      "cell_type": "code",
      "source": [
        "# Import libraries\n",
        "import pandas as pd\n",
        "import numpy as np\n",
        "\n",
        "from sklearn.compose import ColumnTransformer, make_column_selector as selector\n",
        "from sklearn.ensemble import RandomForestClassifier\n",
        "from sklearn.linear_model import Ridge, Lasso, LogisticRegression\n",
        "from sklearn.metrics import classification_report, confusion_matrix, ConfusionMatrixDisplay, mean_squared_error\n",
        "from sklearn.model_selection import train_test_split, GridSearchCV, RandomizedSearchCV\n",
        "from sklearn.pipeline import Pipeline\n",
        "from sklearn.preprocessing import MinMaxScaler, OneHotEncoder, StandardScaler\n",
        "from sklearn.utils import resample\n",
        "\n",
        "from xgboost import XGBClassifier\n",
        "\n",
        "seed = 123"
      ],
      "metadata": {
        "id": "DwVomMlKvOc9"
      },
      "execution_count": null,
      "outputs": []
    },
    {
      "cell_type": "code",
      "source": [
        "# Read data\n",
        "df = pd.read_csv('/content/drive/MyDrive/ML - Project/data/pets_feature_engineering.csv')\n",
        "\n",
        "for c in ['Color1Name', 'Color2Name']:\n",
        "  df[c] = df[c].astype(\"category\")"
      ],
      "metadata": {
        "id": "AMCS0-hkvSA1"
      },
      "execution_count": null,
      "outputs": []
    },
    {
      "cell_type": "code",
      "source": [
        "df.head(3)"
      ],
      "metadata": {
        "colab": {
          "base_uri": "https://localhost:8080/",
          "height": 254
        },
        "id": "m7oHIXlYxvHh",
        "outputId": "1a537aa7-5f28-4a3d-984d-6719eff5a819"
      },
      "execution_count": null,
      "outputs": [
        {
          "output_type": "execute_result",
          "data": {
            "text/plain": [
              "   Type  Age  Gender Color1Name Color2Name  MaturitySize  FurLength  \\\n",
              "0     2    3       1      Black      White             1          1   \n",
              "1     2    1       1      Black      Brown             2          2   \n",
              "2     1    1       1      Brown      White             2          2   \n",
              "\n",
              "   Vaccinated  Dewormed  Sterilized  ...  Mixed_Breed  Domestic  Pure_Breed  \\\n",
              "0           2         2           2  ...            0         0           1   \n",
              "1           3         3           3  ...            0         1           1   \n",
              "2           1         1           2  ...            1         0           0   \n",
              "\n",
              "   RescuerID_fa90fa5b1ee11c86938398b60abc32cb  \\\n",
              "0                                           0   \n",
              "1                                           0   \n",
              "2                                           1   \n",
              "\n",
              "  RescuerID_aa66486163b6cbc25ea62a34b11c9b91  \\\n",
              "0                                          0   \n",
              "1                                          0   \n",
              "2                                          0   \n",
              "\n",
              "   RescuerID_c00756f2bdd8fa88fc9f07a8309f7d5d  \\\n",
              "0                                           0   \n",
              "1                                           0   \n",
              "2                                           0   \n",
              "\n",
              "   RescuerID_b53c34474d9e24574bcec6a3d3306a0d  \\\n",
              "0                                           0   \n",
              "1                                           0   \n",
              "2                                           0   \n",
              "\n",
              "   RescuerID_ee2747ce26468ec44c7194e7d1d9dad9  StateName_Selangor  \\\n",
              "0                                           0                   1   \n",
              "1                                           0                   0   \n",
              "2                                           0                   1   \n",
              "\n",
              "   StateName_Kuala Lumpur  \n",
              "0                       0  \n",
              "1                       1  \n",
              "2                       0  \n",
              "\n",
              "[3 rows x 33 columns]"
            ],
            "text/html": [
              "\n",
              "  <div id=\"df-6a2bd1e9-995d-4a40-b9ac-6809976aaad2\">\n",
              "    <div class=\"colab-df-container\">\n",
              "      <div>\n",
              "<style scoped>\n",
              "    .dataframe tbody tr th:only-of-type {\n",
              "        vertical-align: middle;\n",
              "    }\n",
              "\n",
              "    .dataframe tbody tr th {\n",
              "        vertical-align: top;\n",
              "    }\n",
              "\n",
              "    .dataframe thead th {\n",
              "        text-align: right;\n",
              "    }\n",
              "</style>\n",
              "<table border=\"1\" class=\"dataframe\">\n",
              "  <thead>\n",
              "    <tr style=\"text-align: right;\">\n",
              "      <th></th>\n",
              "      <th>Type</th>\n",
              "      <th>Age</th>\n",
              "      <th>Gender</th>\n",
              "      <th>Color1Name</th>\n",
              "      <th>Color2Name</th>\n",
              "      <th>MaturitySize</th>\n",
              "      <th>FurLength</th>\n",
              "      <th>Vaccinated</th>\n",
              "      <th>Dewormed</th>\n",
              "      <th>Sterilized</th>\n",
              "      <th>...</th>\n",
              "      <th>Mixed_Breed</th>\n",
              "      <th>Domestic</th>\n",
              "      <th>Pure_Breed</th>\n",
              "      <th>RescuerID_fa90fa5b1ee11c86938398b60abc32cb</th>\n",
              "      <th>RescuerID_aa66486163b6cbc25ea62a34b11c9b91</th>\n",
              "      <th>RescuerID_c00756f2bdd8fa88fc9f07a8309f7d5d</th>\n",
              "      <th>RescuerID_b53c34474d9e24574bcec6a3d3306a0d</th>\n",
              "      <th>RescuerID_ee2747ce26468ec44c7194e7d1d9dad9</th>\n",
              "      <th>StateName_Selangor</th>\n",
              "      <th>StateName_Kuala Lumpur</th>\n",
              "    </tr>\n",
              "  </thead>\n",
              "  <tbody>\n",
              "    <tr>\n",
              "      <th>0</th>\n",
              "      <td>2</td>\n",
              "      <td>3</td>\n",
              "      <td>1</td>\n",
              "      <td>Black</td>\n",
              "      <td>White</td>\n",
              "      <td>1</td>\n",
              "      <td>1</td>\n",
              "      <td>2</td>\n",
              "      <td>2</td>\n",
              "      <td>2</td>\n",
              "      <td>...</td>\n",
              "      <td>0</td>\n",
              "      <td>0</td>\n",
              "      <td>1</td>\n",
              "      <td>0</td>\n",
              "      <td>0</td>\n",
              "      <td>0</td>\n",
              "      <td>0</td>\n",
              "      <td>0</td>\n",
              "      <td>1</td>\n",
              "      <td>0</td>\n",
              "    </tr>\n",
              "    <tr>\n",
              "      <th>1</th>\n",
              "      <td>2</td>\n",
              "      <td>1</td>\n",
              "      <td>1</td>\n",
              "      <td>Black</td>\n",
              "      <td>Brown</td>\n",
              "      <td>2</td>\n",
              "      <td>2</td>\n",
              "      <td>3</td>\n",
              "      <td>3</td>\n",
              "      <td>3</td>\n",
              "      <td>...</td>\n",
              "      <td>0</td>\n",
              "      <td>1</td>\n",
              "      <td>1</td>\n",
              "      <td>0</td>\n",
              "      <td>0</td>\n",
              "      <td>0</td>\n",
              "      <td>0</td>\n",
              "      <td>0</td>\n",
              "      <td>0</td>\n",
              "      <td>1</td>\n",
              "    </tr>\n",
              "    <tr>\n",
              "      <th>2</th>\n",
              "      <td>1</td>\n",
              "      <td>1</td>\n",
              "      <td>1</td>\n",
              "      <td>Brown</td>\n",
              "      <td>White</td>\n",
              "      <td>2</td>\n",
              "      <td>2</td>\n",
              "      <td>1</td>\n",
              "      <td>1</td>\n",
              "      <td>2</td>\n",
              "      <td>...</td>\n",
              "      <td>1</td>\n",
              "      <td>0</td>\n",
              "      <td>0</td>\n",
              "      <td>1</td>\n",
              "      <td>0</td>\n",
              "      <td>0</td>\n",
              "      <td>0</td>\n",
              "      <td>0</td>\n",
              "      <td>1</td>\n",
              "      <td>0</td>\n",
              "    </tr>\n",
              "  </tbody>\n",
              "</table>\n",
              "<p>3 rows × 33 columns</p>\n",
              "</div>\n",
              "      <button class=\"colab-df-convert\" onclick=\"convertToInteractive('df-6a2bd1e9-995d-4a40-b9ac-6809976aaad2')\"\n",
              "              title=\"Convert this dataframe to an interactive table.\"\n",
              "              style=\"display:none;\">\n",
              "        \n",
              "  <svg xmlns=\"http://www.w3.org/2000/svg\" height=\"24px\"viewBox=\"0 0 24 24\"\n",
              "       width=\"24px\">\n",
              "    <path d=\"M0 0h24v24H0V0z\" fill=\"none\"/>\n",
              "    <path d=\"M18.56 5.44l.94 2.06.94-2.06 2.06-.94-2.06-.94-.94-2.06-.94 2.06-2.06.94zm-11 1L8.5 8.5l.94-2.06 2.06-.94-2.06-.94L8.5 2.5l-.94 2.06-2.06.94zm10 10l.94 2.06.94-2.06 2.06-.94-2.06-.94-.94-2.06-.94 2.06-2.06.94z\"/><path d=\"M17.41 7.96l-1.37-1.37c-.4-.4-.92-.59-1.43-.59-.52 0-1.04.2-1.43.59L10.3 9.45l-7.72 7.72c-.78.78-.78 2.05 0 2.83L4 21.41c.39.39.9.59 1.41.59.51 0 1.02-.2 1.41-.59l7.78-7.78 2.81-2.81c.8-.78.8-2.07 0-2.86zM5.41 20L4 18.59l7.72-7.72 1.47 1.35L5.41 20z\"/>\n",
              "  </svg>\n",
              "      </button>\n",
              "      \n",
              "  <style>\n",
              "    .colab-df-container {\n",
              "      display:flex;\n",
              "      flex-wrap:wrap;\n",
              "      gap: 12px;\n",
              "    }\n",
              "\n",
              "    .colab-df-convert {\n",
              "      background-color: #E8F0FE;\n",
              "      border: none;\n",
              "      border-radius: 50%;\n",
              "      cursor: pointer;\n",
              "      display: none;\n",
              "      fill: #1967D2;\n",
              "      height: 32px;\n",
              "      padding: 0 0 0 0;\n",
              "      width: 32px;\n",
              "    }\n",
              "\n",
              "    .colab-df-convert:hover {\n",
              "      background-color: #E2EBFA;\n",
              "      box-shadow: 0px 1px 2px rgba(60, 64, 67, 0.3), 0px 1px 3px 1px rgba(60, 64, 67, 0.15);\n",
              "      fill: #174EA6;\n",
              "    }\n",
              "\n",
              "    [theme=dark] .colab-df-convert {\n",
              "      background-color: #3B4455;\n",
              "      fill: #D2E3FC;\n",
              "    }\n",
              "\n",
              "    [theme=dark] .colab-df-convert:hover {\n",
              "      background-color: #434B5C;\n",
              "      box-shadow: 0px 1px 3px 1px rgba(0, 0, 0, 0.15);\n",
              "      filter: drop-shadow(0px 1px 2px rgba(0, 0, 0, 0.3));\n",
              "      fill: #FFFFFF;\n",
              "    }\n",
              "  </style>\n",
              "\n",
              "      <script>\n",
              "        const buttonEl =\n",
              "          document.querySelector('#df-6a2bd1e9-995d-4a40-b9ac-6809976aaad2 button.colab-df-convert');\n",
              "        buttonEl.style.display =\n",
              "          google.colab.kernel.accessAllowed ? 'block' : 'none';\n",
              "\n",
              "        async function convertToInteractive(key) {\n",
              "          const element = document.querySelector('#df-6a2bd1e9-995d-4a40-b9ac-6809976aaad2');\n",
              "          const dataTable =\n",
              "            await google.colab.kernel.invokeFunction('convertToInteractive',\n",
              "                                                     [key], {});\n",
              "          if (!dataTable) return;\n",
              "\n",
              "          const docLinkHtml = 'Like what you see? Visit the ' +\n",
              "            '<a target=\"_blank\" href=https://colab.research.google.com/notebooks/data_table.ipynb>data table notebook</a>'\n",
              "            + ' to learn more about interactive tables.';\n",
              "          element.innerHTML = '';\n",
              "          dataTable['output_type'] = 'display_data';\n",
              "          await google.colab.output.renderOutput(dataTable, element);\n",
              "          const docLink = document.createElement('div');\n",
              "          docLink.innerHTML = docLinkHtml;\n",
              "          element.appendChild(docLink);\n",
              "        }\n",
              "      </script>\n",
              "    </div>\n",
              "  </div>\n",
              "  "
            ]
          },
          "metadata": {},
          "execution_count": 52
        }
      ]
    },
    {
      "cell_type": "markdown",
      "source": [
        "## Balancing classes\n"
      ],
      "metadata": {
        "id": "SyLFmVY3jND1"
      }
    },
    {
      "cell_type": "code",
      "source": [
        "df.AdoptionSpeed.value_counts(dropna=False)"
      ],
      "metadata": {
        "colab": {
          "base_uri": "https://localhost:8080/"
        },
        "id": "hmQY8Y-RjVAs",
        "outputId": "7783c2fc-a571-45ea-9d5f-853e3f59158a"
      },
      "execution_count": null,
      "outputs": [
        {
          "output_type": "execute_result",
          "data": {
            "text/plain": [
              "4    4189\n",
              "2    4037\n",
              "3    3258\n",
              "1    3089\n",
              "0     408\n",
              "Name: AdoptionSpeed, dtype: int64"
            ]
          },
          "metadata": {},
          "execution_count": 5
        }
      ]
    },
    {
      "cell_type": "code",
      "source": [
        "(4189 + 4037 + 3258 + 3089 + 408)/5"
      ],
      "metadata": {
        "colab": {
          "base_uri": "https://localhost:8080/"
        },
        "id": "medJwZ8OkHLM",
        "outputId": "87eba98f-da8e-40ef-a26f-9037544e391a"
      },
      "execution_count": null,
      "outputs": [
        {
          "output_type": "execute_result",
          "data": {
            "text/plain": [
              "2996.2"
            ]
          },
          "metadata": {},
          "execution_count": 6
        }
      ]
    },
    {
      "cell_type": "code",
      "source": [
        "# Separate majority and minority classes\n",
        "# Minority\n",
        "df_label0 = df[df.AdoptionSpeed==0]\n",
        "\n",
        "# Majority\n",
        "df_label1 = df[df.AdoptionSpeed==1]\n",
        "df_label2 = df[df.AdoptionSpeed==2]\n",
        "df_label3 = df[df.AdoptionSpeed==3]\n",
        "df_label4 = df[df.AdoptionSpeed==4]\n",
        " \n",
        "# Upsample minority class\n",
        "df_label0 = resample(df_label0, \n",
        "                      replace=True,     # sample with replacement\n",
        "                      n_samples=3000,    \n",
        "                      random_state=seed) # reproducible results\n",
        "\n",
        "# Downsample majority classes\n",
        "df_label1 = resample(df_label1, replace=False, n_samples=3000, random_state=seed)\n",
        "df_label2 = resample(df_label2, replace=False, n_samples=3000, random_state=seed)\n",
        "df_label3 = resample(df_label3, replace=False, n_samples=3000, random_state=seed)\n",
        "df_label4 = resample(df_label4, replace=False, n_samples=3000, random_state=seed)\n",
        "\n",
        "# Combine back the df\n",
        "df = pd.concat([df_label0, df_label1, df_label2, df_label3, df_label4])\n",
        "\n",
        "df.AdoptionSpeed.value_counts(dropna=False)"
      ],
      "metadata": {
        "id": "Q7bEnH3siD0J",
        "colab": {
          "base_uri": "https://localhost:8080/"
        },
        "outputId": "968716cc-6bef-4be9-cf7e-0f6b52962757"
      },
      "execution_count": null,
      "outputs": [
        {
          "output_type": "execute_result",
          "data": {
            "text/plain": [
              "0    3000\n",
              "1    3000\n",
              "2    3000\n",
              "3    3000\n",
              "4    3000\n",
              "Name: AdoptionSpeed, dtype: int64"
            ]
          },
          "metadata": {},
          "execution_count": 7
        }
      ]
    },
    {
      "cell_type": "markdown",
      "source": [
        "## Feature selection and train-test split"
      ],
      "metadata": {
        "id": "cxt45_X6EUYL"
      }
    },
    {
      "cell_type": "code",
      "source": [
        "# Feature selection\n",
        "target_feature = 'AdoptionSpeed'\n",
        "columns = [c for c in df.columns if c not in [target_feature, 'Description']] # at first use all columns\n",
        "X = df[columns]\n",
        "y = df[target_feature]\n",
        "\n",
        "# Train test split\n",
        "X_train, X_test, y_train, y_test = train_test_split(X, y,\n",
        "                                                    stratify=y, \n",
        "                                                    test_size=0.25,\n",
        "                                                    random_state=seed)"
      ],
      "metadata": {
        "id": "LodgmOHRPU3U"
      },
      "execution_count": null,
      "outputs": []
    },
    {
      "cell_type": "markdown",
      "source": [
        "## Modeling"
      ],
      "metadata": {
        "id": "FvhVvVYgTbUj"
      }
    },
    {
      "cell_type": "code",
      "source": [
        "# About the models, we could use:\n",
        "# 2 models each\n",
        "# 1. Regression (and classify the results into bins based on certain thresholds)\n",
        "#     1.1 softmax regression (Luiz)\n",
        "# 2. Multiclass classification\n",
        "#     2.1 random forest (Luiz)\n",
        "# 3. Ordinal mullticlass classification or Ranking\n",
        "#     3.1 random forest using ordinal approach as described in this paper = https://www.cs.waikato.ac.nz/~eibe/pubs/ordinal_tech_report.pdf (Luiz)\n",
        "\n",
        "# On Ranking:\n",
        "# https://towardsdatascience.com/learning-to-rank-a-complete-guide-to-ranking-using-machine-learning-4c9688d370d4\n",
        "\n",
        "# On Ordinal Classification:\n",
        "# https://stats.stackexchange.com/questions/493254/why-ordinal-target-in-classification-problems-need-special-attention\n",
        "# https://albertum.medium.com/nominal-vs-ordinal-classification-1cb97c8993e6\n",
        "# https://towardsdatascience.com/how-to-perform-ordinal-regression-classification-in-pytorch-361a2a095a99\n",
        "# https://stackoverflow.com/questions/57561189/multi-class-multi-label-ordinal-classification-with-sklearn"
      ],
      "metadata": {
        "id": "_JR5hMnYWO0J"
      },
      "execution_count": null,
      "outputs": []
    },
    {
      "cell_type": "markdown",
      "source": [
        "Trying different models:"
      ],
      "metadata": {
        "id": "mS6byDTcSqAe"
      }
    },
    {
      "cell_type": "markdown",
      "source": [
        "### Regression\n"
      ],
      "metadata": {
        "id": "AciDmzSrs-14"
      }
    },
    {
      "cell_type": "markdown",
      "source": [
        "#### Regression: Linear regression (baseline)"
      ],
      "metadata": {
        "id": "j15PP11pS-iQ"
      }
    },
    {
      "cell_type": "code",
      "source": [
        "numeric_transformer = MinMaxScaler()\n",
        "categorical_transformer = OneHotEncoder(sparse=False, dtype='int', handle_unknown='error')\n",
        "\n",
        "preprocessor = ColumnTransformer(\n",
        "    transformers=[  ('num', numeric_transformer, selector(dtype_exclude=\"category\")),\n",
        "                    ('cat', categorical_transformer, selector(dtype_include=\"category\"))\n",
        "                 ]\n",
        ")\n",
        "\n",
        "model_pipeline = Pipeline(\n",
        "    steps=[('preprocessor', preprocessor), \n",
        "           ('regressor', None)]\n",
        ")\n",
        "\n",
        "param_grid = {\n",
        "    'regressor': [Ridge(),\n",
        "                  Lasso()],\n",
        "    # testing alpha = 0 is the same as testing a normal linear regression without regularization\n",
        "    'regressor__alpha': [0,1e-10,1e-5,1e-4,1e-3,1e-2,0.1,0.5,1,5,10,50,100],\n",
        "    'regressor__random_state': [seed]\n",
        "}\n",
        "\n",
        "# We are using RMSE here because large errors are more undesirable that multiple smaller errors (comparing it to MAE)\n",
        "gs = GridSearchCV(model_pipeline, param_grid=param_grid, n_jobs=-1, scoring='neg_root_mean_squared_error')\n",
        "\n",
        "gs_regressor = gs.fit(X_train, y_train)\n",
        "\n",
        "gs_regressor.best_estimator_"
      ],
      "metadata": {
        "id": "GmRgAUUyW6kI",
        "colab": {
          "base_uri": "https://localhost:8080/"
        },
        "outputId": "88691ba8-9e9e-4926-a4dc-a168b4a8fb03"
      },
      "execution_count": null,
      "outputs": [
        {
          "output_type": "execute_result",
          "data": {
            "text/plain": [
              "Pipeline(steps=[('preprocessor',\n",
              "                 ColumnTransformer(transformers=[('num', MinMaxScaler(),\n",
              "                                                  <sklearn.compose._column_transformer.make_column_selector object at 0x7f9f8ddfa410>),\n",
              "                                                 ('cat',\n",
              "                                                  OneHotEncoder(dtype='int',\n",
              "                                                                sparse=False),\n",
              "                                                  <sklearn.compose._column_transformer.make_column_selector object at 0x7f9f8ddfa250>)])),\n",
              "                ('regressor', Ridge(alpha=0, random_state=123))])"
            ]
          },
          "metadata": {},
          "execution_count": 10
        }
      ]
    },
    {
      "cell_type": "code",
      "source": [
        "gs_regressor.best_score_"
      ],
      "metadata": {
        "colab": {
          "base_uri": "https://localhost:8080/"
        },
        "id": "vMj1C2ZqS2t2",
        "outputId": "39523696-6c70-428d-fcaa-d1589fef556b"
      },
      "execution_count": null,
      "outputs": [
        {
          "output_type": "execute_result",
          "data": {
            "text/plain": [
              "-1.3452026981411218"
            ]
          },
          "metadata": {},
          "execution_count": 11
        }
      ]
    },
    {
      "cell_type": "markdown",
      "source": [
        "The RMSE score we obtained from the Linear Regression was 1.3452026981411218."
      ],
      "metadata": {
        "id": "sTcYGRwVS7wn"
      }
    },
    {
      "cell_type": "markdown",
      "source": [
        "#### Softmax Regression\n",
        "You can check more details about the algorithm [here](http://deeplearning.stanford.edu/tutorial/supervised/SoftmaxRegression/)."
      ],
      "metadata": {
        "id": "k3ylynLxy2HQ"
      }
    },
    {
      "cell_type": "code",
      "source": [
        "# Pipeline pre-processing\n",
        "categorical_transformer = OneHotEncoder(sparse=False, dtype='int', handle_unknown='error')\n",
        "\n",
        "preprocessor = ColumnTransformer(\n",
        "    transformers=[  ('num', 'passthrough', selector(dtype_exclude=\"category\")),\n",
        "                    ('cat', categorical_transformer, selector(dtype_include=\"category\"))\n",
        "                 ]\n",
        ")"
      ],
      "metadata": {
        "id": "oI6F3Cvmyz3Q"
      },
      "execution_count": null,
      "outputs": []
    },
    {
      "cell_type": "code",
      "source": [
        "#  Cross-validation to tune hyperparameters\n",
        "model_pipeline = Pipeline(\n",
        "    steps=[('preprocessor', preprocessor),\n",
        "           ('scaler', StandardScaler()), \n",
        "           ('classifier', LogisticRegression())]\n",
        ")\n",
        "\n",
        "param_grid = {\n",
        "    'classifier__penalty' :  ['l2', 'none'],\n",
        "    'classifier__C' : np.logspace(-4, 4, 20),\n",
        "    'classifier__multi_class' : ['multinomial'],\n",
        "    'classifier__solver' : ['lbfgs'],\n",
        "    'classifier__max_iter' : [1000],\n",
        "    'classifier__random_state' : [seed]\n",
        "}\n",
        "\n",
        "gs = GridSearchCV(model_pipeline, param_grid, n_jobs=-1, scoring='neg_root_mean_squared_error')\n",
        "\n",
        "smax_classifier = gs.fit(X_train, y_train)\n",
        "\n",
        "smax_classifier.best_estimator_"
      ],
      "metadata": {
        "colab": {
          "base_uri": "https://localhost:8080/"
        },
        "id": "coAjNh9eteT_",
        "outputId": "da626b1f-8b8b-4bbe-b858-7193dea8737e"
      },
      "execution_count": null,
      "outputs": [
        {
          "output_type": "execute_result",
          "data": {
            "text/plain": [
              "Pipeline(steps=[('preprocessor',\n",
              "                 ColumnTransformer(transformers=[('num', 'passthrough',\n",
              "                                                  <sklearn.compose._column_transformer.make_column_selector object at 0x7f9f88d46090>),\n",
              "                                                 ('cat',\n",
              "                                                  OneHotEncoder(dtype='int',\n",
              "                                                                sparse=False),\n",
              "                                                  <sklearn.compose._column_transformer.make_column_selector object at 0x7f9f88d46e10>)])),\n",
              "                ('scaler', StandardScaler()),\n",
              "                ('classifier',\n",
              "                 LogisticRegression(C=0.012742749857031334, max_iter=1000,\n",
              "                                    multi_class='multinomial',\n",
              "                                    random_state=123))])"
            ]
          },
          "metadata": {},
          "execution_count": 13
        }
      ]
    },
    {
      "cell_type": "code",
      "source": [
        "smax_classifier.best_score_"
      ],
      "metadata": {
        "colab": {
          "base_uri": "https://localhost:8080/"
        },
        "id": "dBxVjKfpT9Jb",
        "outputId": "f1f6f28a-4e69-45f1-9b1f-c514f67d3d43"
      },
      "execution_count": null,
      "outputs": [
        {
          "output_type": "execute_result",
          "data": {
            "text/plain": [
              "-1.8456070930356077"
            ]
          },
          "metadata": {},
          "execution_count": 14
        }
      ]
    },
    {
      "cell_type": "markdown",
      "source": [
        "The RMSE score we obtained from the SoftMax Regression was 1.8456070930356077."
      ],
      "metadata": {
        "id": "rnjaIRKEVfyv"
      }
    },
    {
      "cell_type": "markdown",
      "source": [
        "### Multiclass Classification"
      ],
      "metadata": {
        "id": "-4bJkK0qwGyE"
      }
    },
    {
      "cell_type": "markdown",
      "source": [
        "#### XGBoost"
      ],
      "metadata": {
        "id": "Fw8lUyXvNUIX"
      }
    },
    {
      "cell_type": "code",
      "source": [
        "categorical_transformer = OneHotEncoder(sparse=False, dtype='int', handle_unknown='error')\n",
        "\n",
        "preprocessor = ColumnTransformer(\n",
        "    transformers=[  ('num', 'passthrough', selector(dtype_exclude=\"category\")),\n",
        "                    ('cat', categorical_transformer, selector(dtype_include=\"category\"))\n",
        "                 ]\n",
        ")\n",
        "\n",
        "model_pipeline = Pipeline(\n",
        "    steps=[('preprocessor', preprocessor), \n",
        "           ('classifier', XGBClassifier())]\n",
        ")\n",
        "\n",
        "param_grid = {\n",
        "    'classifier__gamma': [1e-3,0,0.1,1,10],\n",
        "    'classifier__max_depth': [3,5,10],\n",
        "    'classifier__min_child_weight': [0.5,1,5,10],\n",
        "    'classifier__reg_lambda': [1e-3,0,0.1,1,10],\n",
        "    'classifier__reg_alpha': [1e-3,0,0.1,1,10],\n",
        "    'classifier__n_estimators': [100],\n",
        "    'classifier__num_class': [5],\n",
        "    'classifier__random_state': [seed]\n",
        "}\n",
        "\n",
        "gs = RandomizedSearchCV(model_pipeline, param_grid, n_jobs=-1, scoring='neg_root_mean_squared_error', random_state=seed)\n",
        "\n",
        "xgb_classifier = gs.fit(X_train, y_train)\n",
        "\n",
        "xgb_classifier.best_estimator_\n"
      ],
      "metadata": {
        "id": "_VzOcJ7yPZrb",
        "colab": {
          "base_uri": "https://localhost:8080/"
        },
        "outputId": "a727923d-90db-4c6a-b6dc-c9963066b885"
      },
      "execution_count": null,
      "outputs": [
        {
          "output_type": "execute_result",
          "data": {
            "text/plain": [
              "Pipeline(steps=[('preprocessor',\n",
              "                 ColumnTransformer(transformers=[('num', 'passthrough',\n",
              "                                                  <sklearn.compose._column_transformer.make_column_selector object at 0x7f9f8878eed0>),\n",
              "                                                 ('cat',\n",
              "                                                  OneHotEncoder(dtype='int',\n",
              "                                                                sparse=False),\n",
              "                                                  <sklearn.compose._column_transformer.make_column_selector object at 0x7f9f8878e750>)])),\n",
              "                ('classifier',\n",
              "                 XGBClassifier(gamma=1, max_depth=10, min_child_weight=0.5,\n",
              "                               num_class=5, objective='multi:softprob',\n",
              "                               random_state=123, reg_alpha=10,\n",
              "                               reg_lambda=0.1))])"
            ]
          },
          "metadata": {},
          "execution_count": 18
        }
      ]
    },
    {
      "cell_type": "code",
      "source": [
        "xgb_classifier.best_score_"
      ],
      "metadata": {
        "colab": {
          "base_uri": "https://localhost:8080/"
        },
        "id": "hJRYvrFgWPQC",
        "outputId": "f00c53c6-0e10-49a8-ada6-7837528e5428"
      },
      "execution_count": null,
      "outputs": [
        {
          "output_type": "execute_result",
          "data": {
            "text/plain": [
              "-1.5104782836367407"
            ]
          },
          "metadata": {},
          "execution_count": 19
        }
      ]
    },
    {
      "cell_type": "markdown",
      "source": [
        "The RMSE score we obtained from the XGBosst Multiclass Classifier was 1.5104782836367407."
      ],
      "metadata": {
        "id": "DhvERMzRZdYj"
      }
    },
    {
      "cell_type": "markdown",
      "source": [
        "#### Random Forest\n",
        "You can check more details about the algorithm [here](https://towardsdatascience.com/understanding-random-forest-58381e0602d2)."
      ],
      "metadata": {
        "id": "wnDI2KuU80Kb"
      }
    },
    {
      "cell_type": "code",
      "source": [
        "# Pipeline pre-processing\n",
        "categorical_transformer = OneHotEncoder(sparse=False, dtype='int', handle_unknown='error')\n",
        "\n",
        "preprocessor = ColumnTransformer(\n",
        "    transformers=[  ('num', 'passthrough', selector(dtype_exclude=\"category\")),\n",
        "                    ('cat', categorical_transformer, selector(dtype_include=\"category\"))\n",
        "                 ]\n",
        ")"
      ],
      "metadata": {
        "id": "XDddaIZa80Kc"
      },
      "execution_count": null,
      "outputs": []
    },
    {
      "cell_type": "code",
      "source": [
        "#  Cross-validation to tune hyperparameters\n",
        "model_pipeline = Pipeline(\n",
        "    steps=[('preprocessor', preprocessor),\n",
        "           ('classifier', RandomForestClassifier())]\n",
        ")\n",
        "\n",
        "param_grid = {\n",
        "    'classifier__n_estimators':  [50, 100, 300],\n",
        "    'classifier__max_depth': [5, 10, 15, 20, 25, 30, None],\n",
        "    'classifier__min_samples_split': [2, 5, 10],\n",
        "    'classifier__min_samples_leaf': [1, 2, 4, 10],\n",
        "    'classifier__max_features': ['auto', 'sqrt'],\n",
        "    'classifier__bootstrap': [True, False],\n",
        "    'classifier__random_state': [seed]\n",
        "}\n",
        "\n",
        "# Use n_iter to specify the number of parameter combinations\n",
        "# Use random_state as seed for reproducibility\n",
        "rs = RandomizedSearchCV(model_pipeline, param_grid, n_iter = 100, n_jobs=-1, random_state=seed, scoring='neg_root_mean_squared_error')\n",
        "\n",
        "rf_classifier = rs.fit(X_train, y_train)\n",
        "\n",
        "rf_classifier.best_estimator_"
      ],
      "metadata": {
        "colab": {
          "base_uri": "https://localhost:8080/"
        },
        "id": "h7G8YCc7xX5c",
        "outputId": "6b85c04d-1e5d-4ac9-f854-0338cf40a639"
      },
      "execution_count": null,
      "outputs": [
        {
          "output_type": "stream",
          "name": "stderr",
          "text": [
            "/usr/local/lib/python3.7/dist-packages/joblib/externals/loky/process_executor.py:705: UserWarning: A worker stopped while some jobs were given to the executor. This can be caused by a too short worker timeout or by a memory leak.\n",
            "  \"timeout or by a memory leak.\", UserWarning\n"
          ]
        },
        {
          "output_type": "execute_result",
          "data": {
            "text/plain": [
              "Pipeline(steps=[('preprocessor',\n",
              "                 ColumnTransformer(transformers=[('num', 'passthrough',\n",
              "                                                  <sklearn.compose._column_transformer.make_column_selector object at 0x7f9f886d76d0>),\n",
              "                                                 ('cat',\n",
              "                                                  OneHotEncoder(dtype='int',\n",
              "                                                                sparse=False),\n",
              "                                                  <sklearn.compose._column_transformer.make_column_selector object at 0x7f9f886d7390>)])),\n",
              "                ('classifier',\n",
              "                 RandomForestClassifier(bootstrap=False, max_depth=25,\n",
              "                                        n_estimators=300, random_state=123))])"
            ]
          },
          "metadata": {},
          "execution_count": 22
        }
      ]
    },
    {
      "cell_type": "code",
      "source": [
        "rf_classifier.best_score_"
      ],
      "metadata": {
        "colab": {
          "base_uri": "https://localhost:8080/"
        },
        "id": "J-3vc9s7VRGX",
        "outputId": "9cb6a2d8-8c4f-4019-a56a-45a85415bb45"
      },
      "execution_count": null,
      "outputs": [
        {
          "output_type": "execute_result",
          "data": {
            "text/plain": [
              "-1.256761476922338"
            ]
          },
          "metadata": {},
          "execution_count": 23
        }
      ]
    },
    {
      "cell_type": "markdown",
      "source": [
        "The RMSE score we obtained from the RandomForest classifier was 1.256761476922338."
      ],
      "metadata": {
        "id": "KO9PNWdiSPAL"
      }
    },
    {
      "cell_type": "markdown",
      "source": [
        "### Ordinal Mullticlass Classification"
      ],
      "metadata": {
        "id": "kkm0NO-KzHQ7"
      }
    },
    {
      "cell_type": "markdown",
      "source": [
        "#### Ordinal Random Forest\n",
        "You can check more details about this approach for ordinal classification [in this paper](https://www.cs.waikato.ac.nz/~eibe/pubs/ordinal_tech_report.pdf).\n"
      ],
      "metadata": {
        "id": "77_SnKoaG7vS"
      }
    },
    {
      "cell_type": "code",
      "source": [
        "# The code below was taken from https://gist.github.com/M46F/c574f688715d5f7e4b65bce4b3ec5fdc#file-ordinal_classifier-py\n",
        "from sklearn.base import clone\n",
        "from sklearn.base import BaseEstimator\n",
        "\n",
        "\n",
        "class OrdinalClassifier():\n",
        "    \n",
        "    def __init__(self, clf):\n",
        "        self.clf = clf\n",
        "        self.clfs = {}\n",
        "    \n",
        "    def fit(self, X, y):\n",
        "        self.unique_class = np.sort(np.unique(y))\n",
        "        if self.unique_class.shape[0] > 2:\n",
        "            for i in range(self.unique_class.shape[0]-1):\n",
        "                # for each k - 1 ordinal value we fit a binary classification problem\n",
        "                binary_y = (y > self.unique_class[i]).astype(np.uint8)\n",
        "                clf = clone(self.clf)\n",
        "                clf.fit(X, binary_y)\n",
        "                self.clfs[i] = clf\n",
        "    \n",
        "    def predict_proba(self, X):\n",
        "        clfs_predict = {k:self.clfs[k].predict_proba(X) for k in self.clfs}\n",
        "        predicted = []\n",
        "        for i,y in enumerate(self.unique_class):\n",
        "            if i == 0:\n",
        "                # V1 = 1 - Pr(y > V1)\n",
        "                predicted.append(1 - clfs_predict[y][:,1])\n",
        "            elif y in clfs_predict:\n",
        "                # Vi = Pr(y > Vi-1) - Pr(y > Vi)\n",
        "                 predicted.append(clfs_predict[y-1][:,1] - clfs_predict[y][:,1])\n",
        "            else:\n",
        "                # Vk = Pr(y > Vk-1)\n",
        "                predicted.append(clfs_predict[y-1][:,1])\n",
        "        return np.vstack(predicted).T\n",
        "    \n",
        "    def predict(self, X):\n",
        "        return np.argmax(self.predict_proba(X), axis=1)"
      ],
      "metadata": {
        "id": "YNm7r05JHTJG"
      },
      "execution_count": null,
      "outputs": []
    },
    {
      "cell_type": "code",
      "source": [
        "from sklearn.model_selection import cross_val_score\n",
        "\n",
        "# Training with best parameters to avoid running the cross-validation again\n",
        "# Pipeline pre-processing\n",
        "categorical_transformer = OneHotEncoder(sparse=False, dtype='int', handle_unknown='error')\n",
        "\n",
        "preprocessor = ColumnTransformer(\n",
        "    transformers=[  ('num', 'passthrough', selector(dtype_exclude=\"category\")),\n",
        "                    ('cat', categorical_transformer, selector(dtype_include=\"category\"))\n",
        "                 ]\n",
        ")\n",
        "\n",
        "model_pipeline = Pipeline(\n",
        "    steps=[('preprocessor', preprocessor),\n",
        "           ('classifier', OrdinalClassifier(RandomForestClassifier(max_depth=20, min_samples_split=10, n_estimators=150, random_state=seed)))]\n",
        ")\n",
        "\n",
        "scores = cross_val_score(model_pipeline, X_train, y_train, cv=5, scoring='neg_root_mean_squared_error')"
      ],
      "metadata": {
        "id": "FOqI7SPEzaHS"
      },
      "execution_count": null,
      "outputs": []
    },
    {
      "cell_type": "code",
      "source": [
        "scores.mean()"
      ],
      "metadata": {
        "colab": {
          "base_uri": "https://localhost:8080/"
        },
        "id": "FhCVeGhxru0V",
        "outputId": "c41e43d1-a511-4997-b627-d33321af49dd"
      },
      "execution_count": null,
      "outputs": [
        {
          "output_type": "execute_result",
          "data": {
            "text/plain": [
              "-1.2856552656538256"
            ]
          },
          "metadata": {},
          "execution_count": 43
        }
      ]
    },
    {
      "cell_type": "markdown",
      "source": [
        "The RMSE score we obtained from the RandomForest classifier was 1.2856552656538256."
      ],
      "metadata": {
        "id": "WvakwvXa0RX6"
      }
    },
    {
      "cell_type": "markdown",
      "source": [
        "### Splitting cats and dogs into different models"
      ],
      "metadata": {
        "id": "rqqLduV-1Yk8"
      }
    },
    {
      "cell_type": "markdown",
      "source": [
        "We are going to use the best model seen so far (Random Forest Classifier) and see if it would benefit from being split into more specialized models, one being for cats and the other one for dogs. The code execution is presented in notebook model-tuning-split-dogs-and-cats.ipynb."
      ],
      "metadata": {
        "id": "FlPwtsPr1huZ"
      }
    },
    {
      "cell_type": "markdown",
      "source": [
        "## Testing the best model against the test dataset"
      ],
      "metadata": {
        "id": "B5sbr-V21FPt"
      }
    },
    {
      "cell_type": "markdown",
      "source": [
        "The best model we found using the RMSE as metric and comparing the models' cross validation results was Random Forests. We are now going to train it with the whole training dataset and test its performance against the test dataset."
      ],
      "metadata": {
        "id": "l2rmLjSP1JrF"
      }
    },
    {
      "cell_type": "code",
      "source": [
        "# Training with best parameters to avoid running the cross-validation again\n",
        "rf_classifier = rf_classifier.best_estimator_.fit(X_train, y_train)"
      ],
      "metadata": {
        "id": "O5YrechYQj5f"
      },
      "execution_count": null,
      "outputs": []
    },
    {
      "cell_type": "code",
      "source": [
        "print(\"TEST RESULTS \\n\")\n",
        "y_pred = rf_classifier.predict(X_test)\n",
        "\n",
        "RMSE = mean_squared_error(y_test, y_pred, squared=False)\n",
        "print(f\"RMSE: {RMSE} \\n\")\n",
        "\n",
        "cm = confusion_matrix(y_test, y_pred)\n",
        "cmd = ConfusionMatrixDisplay(cm)\n",
        "cmd.plot()\n",
        "\n",
        "print(classification_report(y_test, y_pred, zero_division=0))"
      ],
      "metadata": {
        "colab": {
          "base_uri": "https://localhost:8080/",
          "height": 557
        },
        "id": "kzTi1amk_Bk3",
        "outputId": "ab85ac9d-c95f-4075-d94f-cbc1581c4b26"
      },
      "execution_count": null,
      "outputs": [
        {
          "output_type": "stream",
          "name": "stdout",
          "text": [
            "TEST RESULTS \n",
            "\n",
            "RMSE: 1.213479844634155 \n",
            "\n",
            "              precision    recall  f1-score   support\n",
            "\n",
            "           0       0.96      1.00      0.98       750\n",
            "           1       0.40      0.47      0.43       750\n",
            "           2       0.30      0.26      0.28       750\n",
            "           3       0.36      0.28      0.32       750\n",
            "           4       0.48      0.54      0.51       750\n",
            "\n",
            "    accuracy                           0.51      3750\n",
            "   macro avg       0.50      0.51      0.50      3750\n",
            "weighted avg       0.50      0.51      0.50      3750\n",
            "\n"
          ]
        },
        {
          "output_type": "display_data",
          "data": {
            "text/plain": [
              "<Figure size 432x288 with 2 Axes>"
            ],
            "image/png": "[encoded data removed]"
          },
          "metadata": {
            "needs_background": "light"
          }
        }
      ]
    },
    {
      "cell_type": "code",
      "source": [
        ""
      ],
      "metadata": {
        "id": "RLsmwV_-_Nw3"
      },
      "execution_count": null,
      "outputs": []
    }
  ]
}