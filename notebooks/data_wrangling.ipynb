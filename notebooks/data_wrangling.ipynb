{
  "nbformat": 4,
  "nbformat_minor": 0,
  "metadata": {
    "colab": {
      "name": "data-wrangling.ipynb",
      "provenance": [],
      "collapsed_sections": [],
      "include_colab_link": true
    },
    "kernelspec": {
      "name": "python3",
      "display_name": "Python 3"
    },
    "language_info": {
      "name": "python"
    }
  },
  "cells": [
    {
      "cell_type": "markdown",
      "metadata": {
        "id": "view-in-github",
        "colab_type": "text"
      },
      "source": [
        "<a href=\"https://colab.research.google.com/github/nicolezk/pet-adoption-prediction/blob/main/notebooks/data_wrangling.ipynb\" target=\"_parent\"><img src=\"https://colab.research.google.com/assets/colab-badge.svg\" alt=\"Open In Colab\"/></a>"
      ]
    },
    {
      "cell_type": "markdown",
      "source": [
        "## Notebook configuration"
      ],
      "metadata": {
        "id": "bAL42bp1WeyR"
      }
    },
    {
      "cell_type": "code",
      "source": [
        "# Mount Google Drive to obtain the data\n",
        "from google.colab import drive\n",
        "drive.mount('/content/drive')"
      ],
      "metadata": {
        "id": "UwmAYPd8mhe3",
        "colab": {
          "base_uri": "https://localhost:8080/"
        },
        "outputId": "3dff5e32-3a0c-46b0-fe05-60d3282cfc0b"
      },
      "execution_count": 1,
      "outputs": [
        {
          "output_type": "stream",
          "name": "stdout",
          "text": [
            "Mounted at /content/drive\n"
          ]
        }
      ]
    },
    {
      "cell_type": "code",
      "source": [
        "%%capture\n",
        "# Install libraries\n",
        "!pip install --force-reinstall pandas"
      ],
      "metadata": {
        "id": "hCNn20bFSMpu"
      },
      "execution_count": null,
      "outputs": []
    },
    {
      "cell_type": "code",
      "source": [
        "# Import libraries\n",
        "import pandas as pd"
      ],
      "metadata": {
        "id": "-Fnha4vjmTAN"
      },
      "execution_count": 2,
      "outputs": []
    },
    {
      "cell_type": "code",
      "source": [
        "# Read csv files\n",
        "path_to_dir = '/content/drive/MyDrive/ML - Project/data/'\n",
        "\n",
        "df = pd.read_csv(path_to_dir + 'train.csv.zip')\n",
        "breed_labels = pd.read_csv(path_to_dir + 'BreedLabels.csv')\n",
        "color_labels = pd.read_csv(path_to_dir + 'ColorLabels.csv')\n",
        "state_labels = pd.read_csv(path_to_dir + 'StateLabels.csv')"
      ],
      "metadata": {
        "id": "oSlV1z30mUJS"
      },
      "execution_count": 3,
      "outputs": []
    },
    {
      "cell_type": "markdown",
      "source": [
        "## Dataset Overview\n",
        "\n",
        "Let's take an overview on the files we have."
      ],
      "metadata": {
        "id": "fnFuibZiYfnW"
      }
    },
    {
      "cell_type": "code",
      "source": [
        "df.columns"
      ],
      "metadata": {
        "id": "-1JvqNO7nca4",
        "colab": {
          "base_uri": "https://localhost:8080/"
        },
        "outputId": "4524dba7-e789-4f0b-9744-0478af970519"
      },
      "execution_count": 4,
      "outputs": [
        {
          "output_type": "execute_result",
          "data": {
            "text/plain": [
              "Index(['Type', 'Name', 'Age', 'Breed1', 'Breed2', 'Gender', 'Color1', 'Color2',\n",
              "       'Color3', 'MaturitySize', 'FurLength', 'Vaccinated', 'Dewormed',\n",
              "       'Sterilized', 'Health', 'Quantity', 'Fee', 'State', 'RescuerID',\n",
              "       'VideoAmt', 'Description', 'PetID', 'PhotoAmt', 'AdoptionSpeed'],\n",
              "      dtype='object')"
            ]
          },
          "metadata": {},
          "execution_count": 4
        }
      ]
    },
    {
      "cell_type": "markdown",
      "source": [
        "According to the [Competition profile on Kaggle](https://www.kaggle.com/c/petfinder-adoption-prediction/data), here is the description of the columns:\n",
        "\n",
        "1. **PetID**: Unique hash ID of pet profile\n",
        "2. **AdoptionSpeed**: Categorical speed of adoption. Lower is faster. This is the value to predict.\n",
        "> - 0 - Pet was adopted on the same day as it was listed.\n",
        "> - 1 - Pet was adopted between 1 and 7 days (1st week) after being listed.- \n",
        "> - 2 - Pet was adopted between 8 and 30 days (1st month) after being listed.\n",
        "> - 3 - Pet was adopted between 31 and 90 days (2nd & 3rd month) after being listed.\n",
        "> - 4 - No adoption after 100 days of being listed. (There are no pets in this dataset that waited between 90 and 100 days).\n",
        "3. **Type**: Type of animal (1 = Dog, 2 = Cat)\n",
        "4. **Name**: Name of pet (Empty if not named)\n",
        "5. **Age**: Age of pet when listed, in months\n",
        "6. **Breed1**: Primary breed of pet (Refer to BreedLabels dictionary)\n",
        "7. **Breed2**: Secondary breed of pet, if pet is of mixed breed (Refer to BreedLabels dictionary)\n",
        "8. **Gender**: Gender of pet (1 = Male, 2 = Female, 3 = Mixed, if profile represents group of pets)\n",
        "9. **Color1**: Color 1 of pet (Refer to ColorLabels dictionary)\n",
        "10. **Color2**: Color 2 of pet (Refer to ColorLabels dictionary)\n",
        "11. **Color3**: Color 3 of pet (Refer to ColorLabels dictionary)\n",
        "12. **MaturitySize**: Size at maturity (1 = Small, 2 = Medium, 3 = Large, 4 = Extra Large, 0 = Not Specified)\n",
        "13. **FurLength**: Fur length (1 = Short, 2 = Medium, 3 = Long, 0 = Not Specified)\n",
        "14. **Vaccinated**: Pet has been vaccinated (1 = Yes, 2 = No, 3 = Not Sure)\n",
        "15. **Dewormed**: Pet has been dewormed (1 = Yes, 2 = No, 3 = Not Sure)\n",
        "16. **Sterilized**: Pet has been spayed / neutered (1 = Yes, 2 = No, 3 = Not Sure)\n",
        "17. **Health**: Health Condition (1 = Healthy, 2 = Minor Injury, 3 = Serious Injury, 0 = Not Specified)\n",
        "18. **Quantity**: Number of pets represented in profile\n",
        "19. **Fee**: Adoption fee (0 = Free)\n",
        "20. **State**: State location in Malaysia (Refer to StateLabels dictionary)\n",
        "21. **RescuerID**: Unique hash ID of rescuer\n",
        "22. **VideoAmt**: Total uploaded videos for this pet\n",
        "23. **PhotoAmt**: Total uploaded photos for this pet\n",
        "24. **Description**: Profile write-up for this pet. The primary language used is English, with some in Malay or Chinese.\n",
        "\n"
      ],
      "metadata": {
        "id": "Acro7tKIQJyf"
      }
    },
    {
      "cell_type": "code",
      "source": [
        "breed_labels.head()"
      ],
      "metadata": {
        "id": "As2rZCuPZQ0F",
        "colab": {
          "base_uri": "https://localhost:8080/",
          "height": 206
        },
        "outputId": "9366141e-bb6e-4b01-c144-7e0200e11d52"
      },
      "execution_count": 5,
      "outputs": [
        {
          "output_type": "execute_result",
          "data": {
            "text/plain": [
              "   BreedID  Type         BreedName\n",
              "0        1     1     Affenpinscher\n",
              "1        2     1      Afghan Hound\n",
              "2        3     1  Airedale Terrier\n",
              "3        4     1            Akbash\n",
              "4        5     1             Akita"
            ],
            "text/html": [
              "\n",
              "  <div id=\"df-45702081-9a46-4e85-8de0-9d0b7dd192e7\">\n",
              "    <div class=\"colab-df-container\">\n",
              "      <div>\n",
              "<style scoped>\n",
              "    .dataframe tbody tr th:only-of-type {\n",
              "        vertical-align: middle;\n",
              "    }\n",
              "\n",
              "    .dataframe tbody tr th {\n",
              "        vertical-align: top;\n",
              "    }\n",
              "\n",
              "    .dataframe thead th {\n",
              "        text-align: right;\n",
              "    }\n",
              "</style>\n",
              "<table border=\"1\" class=\"dataframe\">\n",
              "  <thead>\n",
              "    <tr style=\"text-align: right;\">\n",
              "      <th></th>\n",
              "      <th>BreedID</th>\n",
              "      <th>Type</th>\n",
              "      <th>BreedName</th>\n",
              "    </tr>\n",
              "  </thead>\n",
              "  <tbody>\n",
              "    <tr>\n",
              "      <th>0</th>\n",
              "      <td>1</td>\n",
              "      <td>1</td>\n",
              "      <td>Affenpinscher</td>\n",
              "    </tr>\n",
              "    <tr>\n",
              "      <th>1</th>\n",
              "      <td>2</td>\n",
              "      <td>1</td>\n",
              "      <td>Afghan Hound</td>\n",
              "    </tr>\n",
              "    <tr>\n",
              "      <th>2</th>\n",
              "      <td>3</td>\n",
              "      <td>1</td>\n",
              "      <td>Airedale Terrier</td>\n",
              "    </tr>\n",
              "    <tr>\n",
              "      <th>3</th>\n",
              "      <td>4</td>\n",
              "      <td>1</td>\n",
              "      <td>Akbash</td>\n",
              "    </tr>\n",
              "    <tr>\n",
              "      <th>4</th>\n",
              "      <td>5</td>\n",
              "      <td>1</td>\n",
              "      <td>Akita</td>\n",
              "    </tr>\n",
              "  </tbody>\n",
              "</table>\n",
              "</div>\n",
              "      <button class=\"colab-df-convert\" onclick=\"convertToInteractive('df-45702081-9a46-4e85-8de0-9d0b7dd192e7')\"\n",
              "              title=\"Convert this dataframe to an interactive table.\"\n",
              "              style=\"display:none;\">\n",
              "        \n",
              "  <svg xmlns=\"http://www.w3.org/2000/svg\" height=\"24px\"viewBox=\"0 0 24 24\"\n",
              "       width=\"24px\">\n",
              "    <path d=\"M0 0h24v24H0V0z\" fill=\"none\"/>\n",
              "    <path d=\"M18.56 5.44l.94 2.06.94-2.06 2.06-.94-2.06-.94-.94-2.06-.94 2.06-2.06.94zm-11 1L8.5 8.5l.94-2.06 2.06-.94-2.06-.94L8.5 2.5l-.94 2.06-2.06.94zm10 10l.94 2.06.94-2.06 2.06-.94-2.06-.94-.94-2.06-.94 2.06-2.06.94z\"/><path d=\"M17.41 7.96l-1.37-1.37c-.4-.4-.92-.59-1.43-.59-.52 0-1.04.2-1.43.59L10.3 9.45l-7.72 7.72c-.78.78-.78 2.05 0 2.83L4 21.41c.39.39.9.59 1.41.59.51 0 1.02-.2 1.41-.59l7.78-7.78 2.81-2.81c.8-.78.8-2.07 0-2.86zM5.41 20L4 18.59l7.72-7.72 1.47 1.35L5.41 20z\"/>\n",
              "  </svg>\n",
              "      </button>\n",
              "      \n",
              "  <style>\n",
              "    .colab-df-container {\n",
              "      display:flex;\n",
              "      flex-wrap:wrap;\n",
              "      gap: 12px;\n",
              "    }\n",
              "\n",
              "    .colab-df-convert {\n",
              "      background-color: #E8F0FE;\n",
              "      border: none;\n",
              "      border-radius: 50%;\n",
              "      cursor: pointer;\n",
              "      display: none;\n",
              "      fill: #1967D2;\n",
              "      height: 32px;\n",
              "      padding: 0 0 0 0;\n",
              "      width: 32px;\n",
              "    }\n",
              "\n",
              "    .colab-df-convert:hover {\n",
              "      background-color: #E2EBFA;\n",
              "      box-shadow: 0px 1px 2px rgba(60, 64, 67, 0.3), 0px 1px 3px 1px rgba(60, 64, 67, 0.15);\n",
              "      fill: #174EA6;\n",
              "    }\n",
              "\n",
              "    [theme=dark] .colab-df-convert {\n",
              "      background-color: #3B4455;\n",
              "      fill: #D2E3FC;\n",
              "    }\n",
              "\n",
              "    [theme=dark] .colab-df-convert:hover {\n",
              "      background-color: #434B5C;\n",
              "      box-shadow: 0px 1px 3px 1px rgba(0, 0, 0, 0.15);\n",
              "      filter: drop-shadow(0px 1px 2px rgba(0, 0, 0, 0.3));\n",
              "      fill: #FFFFFF;\n",
              "    }\n",
              "  </style>\n",
              "\n",
              "      <script>\n",
              "        const buttonEl =\n",
              "          document.querySelector('#df-45702081-9a46-4e85-8de0-9d0b7dd192e7 button.colab-df-convert');\n",
              "        buttonEl.style.display =\n",
              "          google.colab.kernel.accessAllowed ? 'block' : 'none';\n",
              "\n",
              "        async function convertToInteractive(key) {\n",
              "          const element = document.querySelector('#df-45702081-9a46-4e85-8de0-9d0b7dd192e7');\n",
              "          const dataTable =\n",
              "            await google.colab.kernel.invokeFunction('convertToInteractive',\n",
              "                                                     [key], {});\n",
              "          if (!dataTable) return;\n",
              "\n",
              "          const docLinkHtml = 'Like what you see? Visit the ' +\n",
              "            '<a target=\"_blank\" href=https://colab.research.google.com/notebooks/data_table.ipynb>data table notebook</a>'\n",
              "            + ' to learn more about interactive tables.';\n",
              "          element.innerHTML = '';\n",
              "          dataTable['output_type'] = 'display_data';\n",
              "          await google.colab.output.renderOutput(dataTable, element);\n",
              "          const docLink = document.createElement('div');\n",
              "          docLink.innerHTML = docLinkHtml;\n",
              "          element.appendChild(docLink);\n",
              "        }\n",
              "      </script>\n",
              "    </div>\n",
              "  </div>\n",
              "  "
            ]
          },
          "metadata": {},
          "execution_count": 5
        }
      ]
    },
    {
      "cell_type": "code",
      "source": [
        "color_labels.head()"
      ],
      "metadata": {
        "id": "6mJAKJQ8ZkZO",
        "colab": {
          "base_uri": "https://localhost:8080/",
          "height": 206
        },
        "outputId": "07595d5e-5028-49ea-e376-f35e08f19c82"
      },
      "execution_count": 6,
      "outputs": [
        {
          "output_type": "execute_result",
          "data": {
            "text/plain": [
              "   ColorID ColorName\n",
              "0        1     Black\n",
              "1        2     Brown\n",
              "2        3    Golden\n",
              "3        4    Yellow\n",
              "4        5     Cream"
            ],
            "text/html": [
              "\n",
              "  <div id=\"df-6ae9bb52-c081-4fda-b4ec-8a1d8c59df7d\">\n",
              "    <div class=\"colab-df-container\">\n",
              "      <div>\n",
              "<style scoped>\n",
              "    .dataframe tbody tr th:only-of-type {\n",
              "        vertical-align: middle;\n",
              "    }\n",
              "\n",
              "    .dataframe tbody tr th {\n",
              "        vertical-align: top;\n",
              "    }\n",
              "\n",
              "    .dataframe thead th {\n",
              "        text-align: right;\n",
              "    }\n",
              "</style>\n",
              "<table border=\"1\" class=\"dataframe\">\n",
              "  <thead>\n",
              "    <tr style=\"text-align: right;\">\n",
              "      <th></th>\n",
              "      <th>ColorID</th>\n",
              "      <th>ColorName</th>\n",
              "    </tr>\n",
              "  </thead>\n",
              "  <tbody>\n",
              "    <tr>\n",
              "      <th>0</th>\n",
              "      <td>1</td>\n",
              "      <td>Black</td>\n",
              "    </tr>\n",
              "    <tr>\n",
              "      <th>1</th>\n",
              "      <td>2</td>\n",
              "      <td>Brown</td>\n",
              "    </tr>\n",
              "    <tr>\n",
              "      <th>2</th>\n",
              "      <td>3</td>\n",
              "      <td>Golden</td>\n",
              "    </tr>\n",
              "    <tr>\n",
              "      <th>3</th>\n",
              "      <td>4</td>\n",
              "      <td>Yellow</td>\n",
              "    </tr>\n",
              "    <tr>\n",
              "      <th>4</th>\n",
              "      <td>5</td>\n",
              "      <td>Cream</td>\n",
              "    </tr>\n",
              "  </tbody>\n",
              "</table>\n",
              "</div>\n",
              "      <button class=\"colab-df-convert\" onclick=\"convertToInteractive('df-6ae9bb52-c081-4fda-b4ec-8a1d8c59df7d')\"\n",
              "              title=\"Convert this dataframe to an interactive table.\"\n",
              "              style=\"display:none;\">\n",
              "        \n",
              "  <svg xmlns=\"http://www.w3.org/2000/svg\" height=\"24px\"viewBox=\"0 0 24 24\"\n",
              "       width=\"24px\">\n",
              "    <path d=\"M0 0h24v24H0V0z\" fill=\"none\"/>\n",
              "    <path d=\"M18.56 5.44l.94 2.06.94-2.06 2.06-.94-2.06-.94-.94-2.06-.94 2.06-2.06.94zm-11 1L8.5 8.5l.94-2.06 2.06-.94-2.06-.94L8.5 2.5l-.94 2.06-2.06.94zm10 10l.94 2.06.94-2.06 2.06-.94-2.06-.94-.94-2.06-.94 2.06-2.06.94z\"/><path d=\"M17.41 7.96l-1.37-1.37c-.4-.4-.92-.59-1.43-.59-.52 0-1.04.2-1.43.59L10.3 9.45l-7.72 7.72c-.78.78-.78 2.05 0 2.83L4 21.41c.39.39.9.59 1.41.59.51 0 1.02-.2 1.41-.59l7.78-7.78 2.81-2.81c.8-.78.8-2.07 0-2.86zM5.41 20L4 18.59l7.72-7.72 1.47 1.35L5.41 20z\"/>\n",
              "  </svg>\n",
              "      </button>\n",
              "      \n",
              "  <style>\n",
              "    .colab-df-container {\n",
              "      display:flex;\n",
              "      flex-wrap:wrap;\n",
              "      gap: 12px;\n",
              "    }\n",
              "\n",
              "    .colab-df-convert {\n",
              "      background-color: #E8F0FE;\n",
              "      border: none;\n",
              "      border-radius: 50%;\n",
              "      cursor: pointer;\n",
              "      display: none;\n",
              "      fill: #1967D2;\n",
              "      height: 32px;\n",
              "      padding: 0 0 0 0;\n",
              "      width: 32px;\n",
              "    }\n",
              "\n",
              "    .colab-df-convert:hover {\n",
              "      background-color: #E2EBFA;\n",
              "      box-shadow: 0px 1px 2px rgba(60, 64, 67, 0.3), 0px 1px 3px 1px rgba(60, 64, 67, 0.15);\n",
              "      fill: #174EA6;\n",
              "    }\n",
              "\n",
              "    [theme=dark] .colab-df-convert {\n",
              "      background-color: #3B4455;\n",
              "      fill: #D2E3FC;\n",
              "    }\n",
              "\n",
              "    [theme=dark] .colab-df-convert:hover {\n",
              "      background-color: #434B5C;\n",
              "      box-shadow: 0px 1px 3px 1px rgba(0, 0, 0, 0.15);\n",
              "      filter: drop-shadow(0px 1px 2px rgba(0, 0, 0, 0.3));\n",
              "      fill: #FFFFFF;\n",
              "    }\n",
              "  </style>\n",
              "\n",
              "      <script>\n",
              "        const buttonEl =\n",
              "          document.querySelector('#df-6ae9bb52-c081-4fda-b4ec-8a1d8c59df7d button.colab-df-convert');\n",
              "        buttonEl.style.display =\n",
              "          google.colab.kernel.accessAllowed ? 'block' : 'none';\n",
              "\n",
              "        async function convertToInteractive(key) {\n",
              "          const element = document.querySelector('#df-6ae9bb52-c081-4fda-b4ec-8a1d8c59df7d');\n",
              "          const dataTable =\n",
              "            await google.colab.kernel.invokeFunction('convertToInteractive',\n",
              "                                                     [key], {});\n",
              "          if (!dataTable) return;\n",
              "\n",
              "          const docLinkHtml = 'Like what you see? Visit the ' +\n",
              "            '<a target=\"_blank\" href=https://colab.research.google.com/notebooks/data_table.ipynb>data table notebook</a>'\n",
              "            + ' to learn more about interactive tables.';\n",
              "          element.innerHTML = '';\n",
              "          dataTable['output_type'] = 'display_data';\n",
              "          await google.colab.output.renderOutput(dataTable, element);\n",
              "          const docLink = document.createElement('div');\n",
              "          docLink.innerHTML = docLinkHtml;\n",
              "          element.appendChild(docLink);\n",
              "        }\n",
              "      </script>\n",
              "    </div>\n",
              "  </div>\n",
              "  "
            ]
          },
          "metadata": {},
          "execution_count": 6
        }
      ]
    },
    {
      "cell_type": "code",
      "source": [
        "state_labels.head()"
      ],
      "metadata": {
        "id": "yK3nm7VQZv5d",
        "colab": {
          "base_uri": "https://localhost:8080/",
          "height": 206
        },
        "outputId": "71bf3a40-d93f-4bf3-e4cc-27f74b424d9f"
      },
      "execution_count": 7,
      "outputs": [
        {
          "output_type": "execute_result",
          "data": {
            "text/plain": [
              "   StateID     StateName\n",
              "0    41336         Johor\n",
              "1    41325         Kedah\n",
              "2    41367      Kelantan\n",
              "3    41401  Kuala Lumpur\n",
              "4    41415        Labuan"
            ],
            "text/html": [
              "\n",
              "  <div id=\"df-2f3d39e8-6114-4764-aa76-2cfc8b0900e3\">\n",
              "    <div class=\"colab-df-container\">\n",
              "      <div>\n",
              "<style scoped>\n",
              "    .dataframe tbody tr th:only-of-type {\n",
              "        vertical-align: middle;\n",
              "    }\n",
              "\n",
              "    .dataframe tbody tr th {\n",
              "        vertical-align: top;\n",
              "    }\n",
              "\n",
              "    .dataframe thead th {\n",
              "        text-align: right;\n",
              "    }\n",
              "</style>\n",
              "<table border=\"1\" class=\"dataframe\">\n",
              "  <thead>\n",
              "    <tr style=\"text-align: right;\">\n",
              "      <th></th>\n",
              "      <th>StateID</th>\n",
              "      <th>StateName</th>\n",
              "    </tr>\n",
              "  </thead>\n",
              "  <tbody>\n",
              "    <tr>\n",
              "      <th>0</th>\n",
              "      <td>41336</td>\n",
              "      <td>Johor</td>\n",
              "    </tr>\n",
              "    <tr>\n",
              "      <th>1</th>\n",
              "      <td>41325</td>\n",
              "      <td>Kedah</td>\n",
              "    </tr>\n",
              "    <tr>\n",
              "      <th>2</th>\n",
              "      <td>41367</td>\n",
              "      <td>Kelantan</td>\n",
              "    </tr>\n",
              "    <tr>\n",
              "      <th>3</th>\n",
              "      <td>41401</td>\n",
              "      <td>Kuala Lumpur</td>\n",
              "    </tr>\n",
              "    <tr>\n",
              "      <th>4</th>\n",
              "      <td>41415</td>\n",
              "      <td>Labuan</td>\n",
              "    </tr>\n",
              "  </tbody>\n",
              "</table>\n",
              "</div>\n",
              "      <button class=\"colab-df-convert\" onclick=\"convertToInteractive('df-2f3d39e8-6114-4764-aa76-2cfc8b0900e3')\"\n",
              "              title=\"Convert this dataframe to an interactive table.\"\n",
              "              style=\"display:none;\">\n",
              "        \n",
              "  <svg xmlns=\"http://www.w3.org/2000/svg\" height=\"24px\"viewBox=\"0 0 24 24\"\n",
              "       width=\"24px\">\n",
              "    <path d=\"M0 0h24v24H0V0z\" fill=\"none\"/>\n",
              "    <path d=\"M18.56 5.44l.94 2.06.94-2.06 2.06-.94-2.06-.94-.94-2.06-.94 2.06-2.06.94zm-11 1L8.5 8.5l.94-2.06 2.06-.94-2.06-.94L8.5 2.5l-.94 2.06-2.06.94zm10 10l.94 2.06.94-2.06 2.06-.94-2.06-.94-.94-2.06-.94 2.06-2.06.94z\"/><path d=\"M17.41 7.96l-1.37-1.37c-.4-.4-.92-.59-1.43-.59-.52 0-1.04.2-1.43.59L10.3 9.45l-7.72 7.72c-.78.78-.78 2.05 0 2.83L4 21.41c.39.39.9.59 1.41.59.51 0 1.02-.2 1.41-.59l7.78-7.78 2.81-2.81c.8-.78.8-2.07 0-2.86zM5.41 20L4 18.59l7.72-7.72 1.47 1.35L5.41 20z\"/>\n",
              "  </svg>\n",
              "      </button>\n",
              "      \n",
              "  <style>\n",
              "    .colab-df-container {\n",
              "      display:flex;\n",
              "      flex-wrap:wrap;\n",
              "      gap: 12px;\n",
              "    }\n",
              "\n",
              "    .colab-df-convert {\n",
              "      background-color: #E8F0FE;\n",
              "      border: none;\n",
              "      border-radius: 50%;\n",
              "      cursor: pointer;\n",
              "      display: none;\n",
              "      fill: #1967D2;\n",
              "      height: 32px;\n",
              "      padding: 0 0 0 0;\n",
              "      width: 32px;\n",
              "    }\n",
              "\n",
              "    .colab-df-convert:hover {\n",
              "      background-color: #E2EBFA;\n",
              "      box-shadow: 0px 1px 2px rgba(60, 64, 67, 0.3), 0px 1px 3px 1px rgba(60, 64, 67, 0.15);\n",
              "      fill: #174EA6;\n",
              "    }\n",
              "\n",
              "    [theme=dark] .colab-df-convert {\n",
              "      background-color: #3B4455;\n",
              "      fill: #D2E3FC;\n",
              "    }\n",
              "\n",
              "    [theme=dark] .colab-df-convert:hover {\n",
              "      background-color: #434B5C;\n",
              "      box-shadow: 0px 1px 3px 1px rgba(0, 0, 0, 0.15);\n",
              "      filter: drop-shadow(0px 1px 2px rgba(0, 0, 0, 0.3));\n",
              "      fill: #FFFFFF;\n",
              "    }\n",
              "  </style>\n",
              "\n",
              "      <script>\n",
              "        const buttonEl =\n",
              "          document.querySelector('#df-2f3d39e8-6114-4764-aa76-2cfc8b0900e3 button.colab-df-convert');\n",
              "        buttonEl.style.display =\n",
              "          google.colab.kernel.accessAllowed ? 'block' : 'none';\n",
              "\n",
              "        async function convertToInteractive(key) {\n",
              "          const element = document.querySelector('#df-2f3d39e8-6114-4764-aa76-2cfc8b0900e3');\n",
              "          const dataTable =\n",
              "            await google.colab.kernel.invokeFunction('convertToInteractive',\n",
              "                                                     [key], {});\n",
              "          if (!dataTable) return;\n",
              "\n",
              "          const docLinkHtml = 'Like what you see? Visit the ' +\n",
              "            '<a target=\"_blank\" href=https://colab.research.google.com/notebooks/data_table.ipynb>data table notebook</a>'\n",
              "            + ' to learn more about interactive tables.';\n",
              "          element.innerHTML = '';\n",
              "          dataTable['output_type'] = 'display_data';\n",
              "          await google.colab.output.renderOutput(dataTable, element);\n",
              "          const docLink = document.createElement('div');\n",
              "          docLink.innerHTML = docLinkHtml;\n",
              "          element.appendChild(docLink);\n",
              "        }\n",
              "      </script>\n",
              "    </div>\n",
              "  </div>\n",
              "  "
            ]
          },
          "metadata": {},
          "execution_count": 7
        }
      ]
    },
    {
      "cell_type": "markdown",
      "source": [
        "Now we want to perform some tasks on the data to make sure it is consistent, concise and noise-free.\n",
        "\n",
        "Tasks:\n",
        "- Merging datasets\n",
        "- Deduplication\n",
        "- Handle missing data\n",
        "- Checking consistency\n",
        "- Normalizing/Scaling/Standardization\n",
        "- Removing noisy data\n",
        "\n"
      ],
      "metadata": {
        "id": "RA7UMAUBPjXC"
      }
    },
    {
      "cell_type": "markdown",
      "source": [
        "## Merging Datasets\n",
        "Overview of this task:\n",
        "\n",
        "We have 4 different datasets that we want to merge into 1 single dataframe. The smaller datasets (breed_labels, color_labels and breed_labels) will be incorporated into the biggest dataset (df).\n"
      ],
      "metadata": {
        "id": "pv4Z3nK2Yldl"
      }
    },
    {
      "cell_type": "code",
      "source": [
        "# First, Let's check if all the pets have a reference for breed, state and color.\n",
        "# We do this by checking if there's any missing value (NaN) in those columns.\n",
        "df.isnull().sum(axis = 0)"
      ],
      "metadata": {
        "id": "79SY50R3aRVd",
        "colab": {
          "base_uri": "https://localhost:8080/"
        },
        "outputId": "65b64d24-0e39-4ad0-c55f-125b31668726"
      },
      "execution_count": 8,
      "outputs": [
        {
          "output_type": "execute_result",
          "data": {
            "text/plain": [
              "Type                0\n",
              "Name             1257\n",
              "Age                 0\n",
              "Breed1              0\n",
              "Breed2              0\n",
              "Gender              0\n",
              "Color1              0\n",
              "Color2              0\n",
              "Color3              0\n",
              "MaturitySize        0\n",
              "FurLength           0\n",
              "Vaccinated          0\n",
              "Dewormed            0\n",
              "Sterilized          0\n",
              "Health              0\n",
              "Quantity            0\n",
              "Fee                 0\n",
              "State               0\n",
              "RescuerID           0\n",
              "VideoAmt            0\n",
              "Description        12\n",
              "PetID               0\n",
              "PhotoAmt            0\n",
              "AdoptionSpeed       0\n",
              "dtype: int64"
            ]
          },
          "metadata": {},
          "execution_count": 8
        }
      ]
    },
    {
      "cell_type": "code",
      "source": [
        "# Let's see how many distinct breed types we have before merging them.\n",
        "breed_labels.Type.unique()\n",
        "# If we had only 1 then we could just ignore it, but we have two values (1,2)."
      ],
      "metadata": {
        "id": "kLU-L8APhEz3",
        "colab": {
          "base_uri": "https://localhost:8080/"
        },
        "outputId": "a848e996-df72-4aa5-83cc-cf731221c61b"
      },
      "execution_count": 9,
      "outputs": [
        {
          "output_type": "execute_result",
          "data": {
            "text/plain": [
              "array([1, 2])"
            ]
          },
          "metadata": {},
          "execution_count": 9
        }
      ]
    },
    {
      "cell_type": "code",
      "source": [
        "# Merging\n",
        "df = pd.merge(df, breed_labels, how='left', left_on='Breed1', right_on='BreedID', suffixes=('', 'Breed1'))\n",
        "df = pd.merge(df, breed_labels, how='left', left_on='Breed2', right_on='BreedID', suffixes=('', 'Breed2'))\n",
        "df = pd.merge(df, color_labels, how='left', left_on='Color1', right_on='ColorID', suffixes=('', 'Color1'))\n",
        "df = pd.merge(df, color_labels, how='left', left_on='Color2', right_on='ColorID', suffixes=('', 'Color2'))\n",
        "df = pd.merge(df, color_labels, how='left', left_on='Color3', right_on='ColorID', suffixes=('', 'Color3'))\n",
        "df = pd.merge(df, state_labels, how='left', left_on='State', right_on='StateID')\n",
        "\n",
        "# Removing redundant ID columns for breeds, colors and states\n",
        "df.drop(['BreedID', 'BreedIDBreed2', 'ColorID', 'ColorIDColor2', 'ColorIDColor3', 'StateID'], axis = 1, inplace=True)\n",
        "\n",
        "# Rearranging columns inside the dataframe\n",
        "cols = ['Type', 'Name', 'Age', 'Breed1', 'TypeBreed1', 'BreedName', 'Breed2', 'TypeBreed2', 'BreedNameBreed2',\n",
        "        'Gender', 'Color1', 'ColorName', 'Color2', 'ColorNameColor2', 'Color3', 'ColorNameColor3', 'MaturitySize',\n",
        "        'FurLength', 'Vaccinated', 'Dewormed', 'Sterilized', 'Health', 'Quantity', 'Fee', 'State', 'StateName',\n",
        "        'RescuerID', 'VideoAmt', 'Description', 'PetID', 'PhotoAmt', 'AdoptionSpeed']\n",
        "df = df[cols]\n",
        "\n",
        "# Renaming columns to be more concise \n",
        "df.rename(columns={\"TypeBreed1\": \"Breed1Type\", \"BreedName\": \"Breed1Name\",  \n",
        "                   \"TypeBreed2\": \"Breed2Type\", \"BreedNameBreed2\": \"Breed2Name\",\n",
        "                   \"ColorName\": \"Color1Name\", \"ColorNameColor2\": \"Color2Name\",\n",
        "                   \"ColorNameColor3\": \"Color3Name\"}, inplace=True)\n",
        "\n",
        "df.head(1)"
      ],
      "metadata": {
        "id": "iybNHZ57ipwN",
        "colab": {
          "base_uri": "https://localhost:8080/",
          "height": 244
        },
        "outputId": "d979dd24-4400-4788-cec5-13ebe5f0fd92"
      },
      "execution_count": 10,
      "outputs": [
        {
          "output_type": "execute_result",
          "data": {
            "text/plain": [
              "   Type    Name  Age  Breed1  Breed1Type Breed1Name  Breed2  Breed2Type  \\\n",
              "0     2  Nibble    3     299         2.0      Tabby       0         NaN   \n",
              "\n",
              "  Breed2Name  Gender  ...  Quantity  Fee  State StateName  \\\n",
              "0        NaN       1  ...         1  100  41326  Selangor   \n",
              "\n",
              "                          RescuerID VideoAmt  \\\n",
              "0  8480853f516546f6cf33aa88cd76c379        0   \n",
              "\n",
              "                                         Description      PetID  PhotoAmt  \\\n",
              "0  Nibble is a 3+ month old ball of cuteness. He ...  86e1089a3       1.0   \n",
              "\n",
              "   AdoptionSpeed  \n",
              "0              2  \n",
              "\n",
              "[1 rows x 32 columns]"
            ],
            "text/html": [
              "\n",
              "  <div id=\"df-01d077c1-715b-49eb-8981-c91f31f4580e\">\n",
              "    <div class=\"colab-df-container\">\n",
              "      <div>\n",
              "<style scoped>\n",
              "    .dataframe tbody tr th:only-of-type {\n",
              "        vertical-align: middle;\n",
              "    }\n",
              "\n",
              "    .dataframe tbody tr th {\n",
              "        vertical-align: top;\n",
              "    }\n",
              "\n",
              "    .dataframe thead th {\n",
              "        text-align: right;\n",
              "    }\n",
              "</style>\n",
              "<table border=\"1\" class=\"dataframe\">\n",
              "  <thead>\n",
              "    <tr style=\"text-align: right;\">\n",
              "      <th></th>\n",
              "      <th>Type</th>\n",
              "      <th>Name</th>\n",
              "      <th>Age</th>\n",
              "      <th>Breed1</th>\n",
              "      <th>Breed1Type</th>\n",
              "      <th>Breed1Name</th>\n",
              "      <th>Breed2</th>\n",
              "      <th>Breed2Type</th>\n",
              "      <th>Breed2Name</th>\n",
              "      <th>Gender</th>\n",
              "      <th>...</th>\n",
              "      <th>Quantity</th>\n",
              "      <th>Fee</th>\n",
              "      <th>State</th>\n",
              "      <th>StateName</th>\n",
              "      <th>RescuerID</th>\n",
              "      <th>VideoAmt</th>\n",
              "      <th>Description</th>\n",
              "      <th>PetID</th>\n",
              "      <th>PhotoAmt</th>\n",
              "      <th>AdoptionSpeed</th>\n",
              "    </tr>\n",
              "  </thead>\n",
              "  <tbody>\n",
              "    <tr>\n",
              "      <th>0</th>\n",
              "      <td>2</td>\n",
              "      <td>Nibble</td>\n",
              "      <td>3</td>\n",
              "      <td>299</td>\n",
              "      <td>2.0</td>\n",
              "      <td>Tabby</td>\n",
              "      <td>0</td>\n",
              "      <td>NaN</td>\n",
              "      <td>NaN</td>\n",
              "      <td>1</td>\n",
              "      <td>...</td>\n",
              "      <td>1</td>\n",
              "      <td>100</td>\n",
              "      <td>41326</td>\n",
              "      <td>Selangor</td>\n",
              "      <td>8480853f516546f6cf33aa88cd76c379</td>\n",
              "      <td>0</td>\n",
              "      <td>Nibble is a 3+ month old ball of cuteness. He ...</td>\n",
              "      <td>86e1089a3</td>\n",
              "      <td>1.0</td>\n",
              "      <td>2</td>\n",
              "    </tr>\n",
              "  </tbody>\n",
              "</table>\n",
              "<p>1 rows × 32 columns</p>\n",
              "</div>\n",
              "      <button class=\"colab-df-convert\" onclick=\"convertToInteractive('df-01d077c1-715b-49eb-8981-c91f31f4580e')\"\n",
              "              title=\"Convert this dataframe to an interactive table.\"\n",
              "              style=\"display:none;\">\n",
              "        \n",
              "  <svg xmlns=\"http://www.w3.org/2000/svg\" height=\"24px\"viewBox=\"0 0 24 24\"\n",
              "       width=\"24px\">\n",
              "    <path d=\"M0 0h24v24H0V0z\" fill=\"none\"/>\n",
              "    <path d=\"M18.56 5.44l.94 2.06.94-2.06 2.06-.94-2.06-.94-.94-2.06-.94 2.06-2.06.94zm-11 1L8.5 8.5l.94-2.06 2.06-.94-2.06-.94L8.5 2.5l-.94 2.06-2.06.94zm10 10l.94 2.06.94-2.06 2.06-.94-2.06-.94-.94-2.06-.94 2.06-2.06.94z\"/><path d=\"M17.41 7.96l-1.37-1.37c-.4-.4-.92-.59-1.43-.59-.52 0-1.04.2-1.43.59L10.3 9.45l-7.72 7.72c-.78.78-.78 2.05 0 2.83L4 21.41c.39.39.9.59 1.41.59.51 0 1.02-.2 1.41-.59l7.78-7.78 2.81-2.81c.8-.78.8-2.07 0-2.86zM5.41 20L4 18.59l7.72-7.72 1.47 1.35L5.41 20z\"/>\n",
              "  </svg>\n",
              "      </button>\n",
              "      \n",
              "  <style>\n",
              "    .colab-df-container {\n",
              "      display:flex;\n",
              "      flex-wrap:wrap;\n",
              "      gap: 12px;\n",
              "    }\n",
              "\n",
              "    .colab-df-convert {\n",
              "      background-color: #E8F0FE;\n",
              "      border: none;\n",
              "      border-radius: 50%;\n",
              "      cursor: pointer;\n",
              "      display: none;\n",
              "      fill: #1967D2;\n",
              "      height: 32px;\n",
              "      padding: 0 0 0 0;\n",
              "      width: 32px;\n",
              "    }\n",
              "\n",
              "    .colab-df-convert:hover {\n",
              "      background-color: #E2EBFA;\n",
              "      box-shadow: 0px 1px 2px rgba(60, 64, 67, 0.3), 0px 1px 3px 1px rgba(60, 64, 67, 0.15);\n",
              "      fill: #174EA6;\n",
              "    }\n",
              "\n",
              "    [theme=dark] .colab-df-convert {\n",
              "      background-color: #3B4455;\n",
              "      fill: #D2E3FC;\n",
              "    }\n",
              "\n",
              "    [theme=dark] .colab-df-convert:hover {\n",
              "      background-color: #434B5C;\n",
              "      box-shadow: 0px 1px 3px 1px rgba(0, 0, 0, 0.15);\n",
              "      filter: drop-shadow(0px 1px 2px rgba(0, 0, 0, 0.3));\n",
              "      fill: #FFFFFF;\n",
              "    }\n",
              "  </style>\n",
              "\n",
              "      <script>\n",
              "        const buttonEl =\n",
              "          document.querySelector('#df-01d077c1-715b-49eb-8981-c91f31f4580e button.colab-df-convert');\n",
              "        buttonEl.style.display =\n",
              "          google.colab.kernel.accessAllowed ? 'block' : 'none';\n",
              "\n",
              "        async function convertToInteractive(key) {\n",
              "          const element = document.querySelector('#df-01d077c1-715b-49eb-8981-c91f31f4580e');\n",
              "          const dataTable =\n",
              "            await google.colab.kernel.invokeFunction('convertToInteractive',\n",
              "                                                     [key], {});\n",
              "          if (!dataTable) return;\n",
              "\n",
              "          const docLinkHtml = 'Like what you see? Visit the ' +\n",
              "            '<a target=\"_blank\" href=https://colab.research.google.com/notebooks/data_table.ipynb>data table notebook</a>'\n",
              "            + ' to learn more about interactive tables.';\n",
              "          element.innerHTML = '';\n",
              "          dataTable['output_type'] = 'display_data';\n",
              "          await google.colab.output.renderOutput(dataTable, element);\n",
              "          const docLink = document.createElement('div');\n",
              "          docLink.innerHTML = docLinkHtml;\n",
              "          element.appendChild(docLink);\n",
              "        }\n",
              "      </script>\n",
              "    </div>\n",
              "  </div>\n",
              "  "
            ]
          },
          "metadata": {},
          "execution_count": 10
        }
      ]
    },
    {
      "cell_type": "code",
      "source": [
        "# Let's check how many null values we have after the merge\n",
        "df.isnull().sum(axis = 0)"
      ],
      "metadata": {
        "id": "rsYbolcS0Xw1",
        "colab": {
          "base_uri": "https://localhost:8080/"
        },
        "outputId": "4898f5c5-e2cd-42eb-d075-89f506d56166"
      },
      "execution_count": 11,
      "outputs": [
        {
          "output_type": "execute_result",
          "data": {
            "text/plain": [
              "Type                 0\n",
              "Name              1257\n",
              "Age                  0\n",
              "Breed1               0\n",
              "Breed1Type           5\n",
              "Breed1Name           5\n",
              "Breed2               0\n",
              "Breed2Type       10762\n",
              "Breed2Name       10762\n",
              "Gender               0\n",
              "Color1               0\n",
              "Color1Name           0\n",
              "Color2               0\n",
              "Color2Name        4471\n",
              "Color3               0\n",
              "Color3Name       10604\n",
              "MaturitySize         0\n",
              "FurLength            0\n",
              "Vaccinated           0\n",
              "Dewormed             0\n",
              "Sterilized           0\n",
              "Health               0\n",
              "Quantity             0\n",
              "Fee                  0\n",
              "State                0\n",
              "StateName            0\n",
              "RescuerID            0\n",
              "VideoAmt             0\n",
              "Description         12\n",
              "PetID                0\n",
              "PhotoAmt             0\n",
              "AdoptionSpeed        0\n",
              "dtype: int64"
            ]
          },
          "metadata": {},
          "execution_count": 11
        }
      ]
    },
    {
      "cell_type": "markdown",
      "source": [
        "## Deduplication\n",
        "\n",
        "Overview of this task:\n",
        "\n",
        "We just want to check if there is any duplicated records in our data and remove them if any."
      ],
      "metadata": {
        "id": "0Hpp40cs5yHR"
      }
    },
    {
      "cell_type": "code",
      "source": [
        "# Counting rows in dataframe\n",
        "len(df)"
      ],
      "metadata": {
        "id": "1_UAAKBs6TwZ",
        "colab": {
          "base_uri": "https://localhost:8080/"
        },
        "outputId": "700aa2b9-cc6d-4e0c-84f8-7fbaa8a93ef1"
      },
      "execution_count": 12,
      "outputs": [
        {
          "output_type": "execute_result",
          "data": {
            "text/plain": [
              "14993"
            ]
          },
          "metadata": {},
          "execution_count": 12
        }
      ]
    },
    {
      "cell_type": "code",
      "source": [
        "# dropping duplicate values\n",
        "df.drop_duplicates(keep=False,inplace=True)"
      ],
      "metadata": {
        "id": "Wo5hN8MI6uXP"
      },
      "execution_count": 13,
      "outputs": []
    },
    {
      "cell_type": "code",
      "source": [
        "# Count again to see the number of rows.\n",
        "len(df)\n",
        "\n",
        "# Conclusion: there were no duplicated rows in our data"
      ],
      "metadata": {
        "id": "gsMbgHka620n",
        "colab": {
          "base_uri": "https://localhost:8080/"
        },
        "outputId": "d0b26c5e-3c91-4562-e8cf-36aa3759f357"
      },
      "execution_count": 14,
      "outputs": [
        {
          "output_type": "execute_result",
          "data": {
            "text/plain": [
              "14993"
            ]
          },
          "metadata": {},
          "execution_count": 14
        }
      ]
    },
    {
      "cell_type": "markdown",
      "source": [
        "## Handle missing data\n",
        "\n",
        "Overview of this task:\n",
        "\n",
        "We want to see which columns have missing values and then decide what to do with them (remove, replace, leave it there, etc)."
      ],
      "metadata": {
        "id": "8gn2WtjT7Y2_"
      }
    },
    {
      "cell_type": "code",
      "source": [
        "# First, let's check how many null values (NaN) we have per column\n",
        "df.isnull().sum(axis = 0)"
      ],
      "metadata": {
        "id": "I6mPiS8G8WwD",
        "colab": {
          "base_uri": "https://localhost:8080/"
        },
        "outputId": "5e68351f-a5c6-4a89-f98b-8c82c7d390af"
      },
      "execution_count": 15,
      "outputs": [
        {
          "output_type": "execute_result",
          "data": {
            "text/plain": [
              "Type                 0\n",
              "Name              1257\n",
              "Age                  0\n",
              "Breed1               0\n",
              "Breed1Type           5\n",
              "Breed1Name           5\n",
              "Breed2               0\n",
              "Breed2Type       10762\n",
              "Breed2Name       10762\n",
              "Gender               0\n",
              "Color1               0\n",
              "Color1Name           0\n",
              "Color2               0\n",
              "Color2Name        4471\n",
              "Color3               0\n",
              "Color3Name       10604\n",
              "MaturitySize         0\n",
              "FurLength            0\n",
              "Vaccinated           0\n",
              "Dewormed             0\n",
              "Sterilized           0\n",
              "Health               0\n",
              "Quantity             0\n",
              "Fee                  0\n",
              "State                0\n",
              "StateName            0\n",
              "RescuerID            0\n",
              "VideoAmt             0\n",
              "Description         12\n",
              "PetID                0\n",
              "PhotoAmt             0\n",
              "AdoptionSpeed        0\n",
              "dtype: int64"
            ]
          },
          "metadata": {},
          "execution_count": 15
        }
      ]
    },
    {
      "cell_type": "markdown",
      "source": [
        "The columns that contain missing values are:\n",
        "\n",
        "*   Name (1257 null values)\n",
        "*   Breed1Type (5)\n",
        "*   Breed1Name (5)\n",
        "*   Breed2Type (10762)\n",
        "*   Breed2Name (10762)\n",
        "*   Color2Name (4471)\n",
        "*   Color3Name (10604)\n",
        "*   Description (12)\n",
        "\n",
        "We don't need take any action to deal with those missing values because they represent exactly what they're supposed to represent: the data doesn't exist in that case. For instance, if the name is null, it means that the animal doesn't have a name.\n",
        "\n",
        "We are just going to check deeper inside the columns Breed1Type and Breed1Name because every pet should have at least a primary breed. And we will fill the Description null values with empty strings."
      ],
      "metadata": {
        "id": "y_T2L9DLSTUc"
      }
    },
    {
      "cell_type": "code",
      "source": [
        "# Check rows where Breed1Type is null\n",
        "df[df.Breed1Type.isnull()]"
      ],
      "metadata": {
        "id": "y0HfgDV0UTd6",
        "colab": {
          "base_uri": "https://localhost:8080/",
          "height": 612
        },
        "outputId": "80c2725e-3131-4e35-c292-af7bf6bea530"
      },
      "execution_count": 16,
      "outputs": [
        {
          "output_type": "execute_result",
          "data": {
            "text/plain": [
              "      Type                                Name  Age  Breed1  Breed1Type  \\\n",
              "391      1                            Lil Milo    2       0         NaN   \n",
              "1045     1               Bella 4 Months Puppy!    4       0         NaN   \n",
              "3219     2                                 NaN    3       0         NaN   \n",
              "7285     1                           \"Boy Boy\"   72       0         NaN   \n",
              "7706     1  Looking Newborn Puppy For Adoption    2       0         NaN   \n",
              "\n",
              "     Breed1Name  Breed2  Breed2Type                 Breed2Name  Gender  ...  \\\n",
              "391         NaN      26         1.0  Belgian Shepherd Malinois       2  ...   \n",
              "1045        NaN     307         1.0                Mixed Breed       2  ...   \n",
              "3219        NaN     266         2.0        Domestic Short Hair       3  ...   \n",
              "7285        NaN     307         1.0                Mixed Breed       1  ...   \n",
              "7706        NaN     205         1.0                   Shih Tzu       2  ...   \n",
              "\n",
              "      Quantity  Fee  State     StateName                         RescuerID  \\\n",
              "391          1    0  41326      Selangor  1a2113010d6048d5410b265347b35c91   \n",
              "1045         1  100  41326      Selangor  3673e167fc9932b13149bed1f2a0180a   \n",
              "3219         3    0  41401  Kuala Lumpur  f7cff59d10c867bdee12c3f35f34d086   \n",
              "7285         1    0  41326      Selangor  94b991f8dc1e0bb903ca8d4d492c8d43   \n",
              "7706         1    1  41336         Johor  5232bdd1444960a257ccec9a41404320   \n",
              "\n",
              "     VideoAmt                                        Description      PetID  \\\n",
              "391         0  Milo went missing after a week with her new ad...  375905770   \n",
              "1045        0  She's only 4 months old, very friendly and lov...  da8d4a273   \n",
              "3219        0  Mama cat came to house and gave birth to these...  27e74e45c   \n",
              "7285        0  He is a stray dog found wandering around Unive...  7b5bee232   \n",
              "7706        0  I want to adopt a newborn puppy Prefer small b...  0327b8e94   \n",
              "\n",
              "      PhotoAmt  AdoptionSpeed  \n",
              "391        3.0              3  \n",
              "1045       5.0              4  \n",
              "3219      11.0              2  \n",
              "7285       5.0              4  \n",
              "7706       0.0              3  \n",
              "\n",
              "[5 rows x 32 columns]"
            ],
            "text/html": [
              "\n",
              "  <div id=\"df-76fef2e7-84ec-44d2-8646-d7370b90ee27\">\n",
              "    <div class=\"colab-df-container\">\n",
              "      <div>\n",
              "<style scoped>\n",
              "    .dataframe tbody tr th:only-of-type {\n",
              "        vertical-align: middle;\n",
              "    }\n",
              "\n",
              "    .dataframe tbody tr th {\n",
              "        vertical-align: top;\n",
              "    }\n",
              "\n",
              "    .dataframe thead th {\n",
              "        text-align: right;\n",
              "    }\n",
              "</style>\n",
              "<table border=\"1\" class=\"dataframe\">\n",
              "  <thead>\n",
              "    <tr style=\"text-align: right;\">\n",
              "      <th></th>\n",
              "      <th>Type</th>\n",
              "      <th>Name</th>\n",
              "      <th>Age</th>\n",
              "      <th>Breed1</th>\n",
              "      <th>Breed1Type</th>\n",
              "      <th>Breed1Name</th>\n",
              "      <th>Breed2</th>\n",
              "      <th>Breed2Type</th>\n",
              "      <th>Breed2Name</th>\n",
              "      <th>Gender</th>\n",
              "      <th>...</th>\n",
              "      <th>Quantity</th>\n",
              "      <th>Fee</th>\n",
              "      <th>State</th>\n",
              "      <th>StateName</th>\n",
              "      <th>RescuerID</th>\n",
              "      <th>VideoAmt</th>\n",
              "      <th>Description</th>\n",
              "      <th>PetID</th>\n",
              "      <th>PhotoAmt</th>\n",
              "      <th>AdoptionSpeed</th>\n",
              "    </tr>\n",
              "  </thead>\n",
              "  <tbody>\n",
              "    <tr>\n",
              "      <th>391</th>\n",
              "      <td>1</td>\n",
              "      <td>Lil Milo</td>\n",
              "      <td>2</td>\n",
              "      <td>0</td>\n",
              "      <td>NaN</td>\n",
              "      <td>NaN</td>\n",
              "      <td>26</td>\n",
              "      <td>1.0</td>\n",
              "      <td>Belgian Shepherd Malinois</td>\n",
              "      <td>2</td>\n",
              "      <td>...</td>\n",
              "      <td>1</td>\n",
              "      <td>0</td>\n",
              "      <td>41326</td>\n",
              "      <td>Selangor</td>\n",
              "      <td>1a2113010d6048d5410b265347b35c91</td>\n",
              "      <td>0</td>\n",
              "      <td>Milo went missing after a week with her new ad...</td>\n",
              "      <td>375905770</td>\n",
              "      <td>3.0</td>\n",
              "      <td>3</td>\n",
              "    </tr>\n",
              "    <tr>\n",
              "      <th>1045</th>\n",
              "      <td>1</td>\n",
              "      <td>Bella 4 Months Puppy!</td>\n",
              "      <td>4</td>\n",
              "      <td>0</td>\n",
              "      <td>NaN</td>\n",
              "      <td>NaN</td>\n",
              "      <td>307</td>\n",
              "      <td>1.0</td>\n",
              "      <td>Mixed Breed</td>\n",
              "      <td>2</td>\n",
              "      <td>...</td>\n",
              "      <td>1</td>\n",
              "      <td>100</td>\n",
              "      <td>41326</td>\n",
              "      <td>Selangor</td>\n",
              "      <td>3673e167fc9932b13149bed1f2a0180a</td>\n",
              "      <td>0</td>\n",
              "      <td>She's only 4 months old, very friendly and lov...</td>\n",
              "      <td>da8d4a273</td>\n",
              "      <td>5.0</td>\n",
              "      <td>4</td>\n",
              "    </tr>\n",
              "    <tr>\n",
              "      <th>3219</th>\n",
              "      <td>2</td>\n",
              "      <td>NaN</td>\n",
              "      <td>3</td>\n",
              "      <td>0</td>\n",
              "      <td>NaN</td>\n",
              "      <td>NaN</td>\n",
              "      <td>266</td>\n",
              "      <td>2.0</td>\n",
              "      <td>Domestic Short Hair</td>\n",
              "      <td>3</td>\n",
              "      <td>...</td>\n",
              "      <td>3</td>\n",
              "      <td>0</td>\n",
              "      <td>41401</td>\n",
              "      <td>Kuala Lumpur</td>\n",
              "      <td>f7cff59d10c867bdee12c3f35f34d086</td>\n",
              "      <td>0</td>\n",
              "      <td>Mama cat came to house and gave birth to these...</td>\n",
              "      <td>27e74e45c</td>\n",
              "      <td>11.0</td>\n",
              "      <td>2</td>\n",
              "    </tr>\n",
              "    <tr>\n",
              "      <th>7285</th>\n",
              "      <td>1</td>\n",
              "      <td>\"Boy Boy\"</td>\n",
              "      <td>72</td>\n",
              "      <td>0</td>\n",
              "      <td>NaN</td>\n",
              "      <td>NaN</td>\n",
              "      <td>307</td>\n",
              "      <td>1.0</td>\n",
              "      <td>Mixed Breed</td>\n",
              "      <td>1</td>\n",
              "      <td>...</td>\n",
              "      <td>1</td>\n",
              "      <td>0</td>\n",
              "      <td>41326</td>\n",
              "      <td>Selangor</td>\n",
              "      <td>94b991f8dc1e0bb903ca8d4d492c8d43</td>\n",
              "      <td>0</td>\n",
              "      <td>He is a stray dog found wandering around Unive...</td>\n",
              "      <td>7b5bee232</td>\n",
              "      <td>5.0</td>\n",
              "      <td>4</td>\n",
              "    </tr>\n",
              "    <tr>\n",
              "      <th>7706</th>\n",
              "      <td>1</td>\n",
              "      <td>Looking Newborn Puppy For Adoption</td>\n",
              "      <td>2</td>\n",
              "      <td>0</td>\n",
              "      <td>NaN</td>\n",
              "      <td>NaN</td>\n",
              "      <td>205</td>\n",
              "      <td>1.0</td>\n",
              "      <td>Shih Tzu</td>\n",
              "      <td>2</td>\n",
              "      <td>...</td>\n",
              "      <td>1</td>\n",
              "      <td>1</td>\n",
              "      <td>41336</td>\n",
              "      <td>Johor</td>\n",
              "      <td>5232bdd1444960a257ccec9a41404320</td>\n",
              "      <td>0</td>\n",
              "      <td>I want to adopt a newborn puppy Prefer small b...</td>\n",
              "      <td>0327b8e94</td>\n",
              "      <td>0.0</td>\n",
              "      <td>3</td>\n",
              "    </tr>\n",
              "  </tbody>\n",
              "</table>\n",
              "<p>5 rows × 32 columns</p>\n",
              "</div>\n",
              "      <button class=\"colab-df-convert\" onclick=\"convertToInteractive('df-76fef2e7-84ec-44d2-8646-d7370b90ee27')\"\n",
              "              title=\"Convert this dataframe to an interactive table.\"\n",
              "              style=\"display:none;\">\n",
              "        \n",
              "  <svg xmlns=\"http://www.w3.org/2000/svg\" height=\"24px\"viewBox=\"0 0 24 24\"\n",
              "       width=\"24px\">\n",
              "    <path d=\"M0 0h24v24H0V0z\" fill=\"none\"/>\n",
              "    <path d=\"M18.56 5.44l.94 2.06.94-2.06 2.06-.94-2.06-.94-.94-2.06-.94 2.06-2.06.94zm-11 1L8.5 8.5l.94-2.06 2.06-.94-2.06-.94L8.5 2.5l-.94 2.06-2.06.94zm10 10l.94 2.06.94-2.06 2.06-.94-2.06-.94-.94-2.06-.94 2.06-2.06.94z\"/><path d=\"M17.41 7.96l-1.37-1.37c-.4-.4-.92-.59-1.43-.59-.52 0-1.04.2-1.43.59L10.3 9.45l-7.72 7.72c-.78.78-.78 2.05 0 2.83L4 21.41c.39.39.9.59 1.41.59.51 0 1.02-.2 1.41-.59l7.78-7.78 2.81-2.81c.8-.78.8-2.07 0-2.86zM5.41 20L4 18.59l7.72-7.72 1.47 1.35L5.41 20z\"/>\n",
              "  </svg>\n",
              "      </button>\n",
              "      \n",
              "  <style>\n",
              "    .colab-df-container {\n",
              "      display:flex;\n",
              "      flex-wrap:wrap;\n",
              "      gap: 12px;\n",
              "    }\n",
              "\n",
              "    .colab-df-convert {\n",
              "      background-color: #E8F0FE;\n",
              "      border: none;\n",
              "      border-radius: 50%;\n",
              "      cursor: pointer;\n",
              "      display: none;\n",
              "      fill: #1967D2;\n",
              "      height: 32px;\n",
              "      padding: 0 0 0 0;\n",
              "      width: 32px;\n",
              "    }\n",
              "\n",
              "    .colab-df-convert:hover {\n",
              "      background-color: #E2EBFA;\n",
              "      box-shadow: 0px 1px 2px rgba(60, 64, 67, 0.3), 0px 1px 3px 1px rgba(60, 64, 67, 0.15);\n",
              "      fill: #174EA6;\n",
              "    }\n",
              "\n",
              "    [theme=dark] .colab-df-convert {\n",
              "      background-color: #3B4455;\n",
              "      fill: #D2E3FC;\n",
              "    }\n",
              "\n",
              "    [theme=dark] .colab-df-convert:hover {\n",
              "      background-color: #434B5C;\n",
              "      box-shadow: 0px 1px 3px 1px rgba(0, 0, 0, 0.15);\n",
              "      filter: drop-shadow(0px 1px 2px rgba(0, 0, 0, 0.3));\n",
              "      fill: #FFFFFF;\n",
              "    }\n",
              "  </style>\n",
              "\n",
              "      <script>\n",
              "        const buttonEl =\n",
              "          document.querySelector('#df-76fef2e7-84ec-44d2-8646-d7370b90ee27 button.colab-df-convert');\n",
              "        buttonEl.style.display =\n",
              "          google.colab.kernel.accessAllowed ? 'block' : 'none';\n",
              "\n",
              "        async function convertToInteractive(key) {\n",
              "          const element = document.querySelector('#df-76fef2e7-84ec-44d2-8646-d7370b90ee27');\n",
              "          const dataTable =\n",
              "            await google.colab.kernel.invokeFunction('convertToInteractive',\n",
              "                                                     [key], {});\n",
              "          if (!dataTable) return;\n",
              "\n",
              "          const docLinkHtml = 'Like what you see? Visit the ' +\n",
              "            '<a target=\"_blank\" href=https://colab.research.google.com/notebooks/data_table.ipynb>data table notebook</a>'\n",
              "            + ' to learn more about interactive tables.';\n",
              "          element.innerHTML = '';\n",
              "          dataTable['output_type'] = 'display_data';\n",
              "          await google.colab.output.renderOutput(dataTable, element);\n",
              "          const docLink = document.createElement('div');\n",
              "          docLink.innerHTML = docLinkHtml;\n",
              "          element.appendChild(docLink);\n",
              "        }\n",
              "      </script>\n",
              "    </div>\n",
              "  </div>\n",
              "  "
            ]
          },
          "metadata": {},
          "execution_count": 16
        }
      ]
    },
    {
      "cell_type": "markdown",
      "source": [
        "As we can see above, the Breed code is always 0, which is a code that does not exist on the breed_labels reference dataset. However, for all those cases the animal has information on secondary breed. We are going to replace the primary breed by the secondary breed in the cases where Breed1Name is Null and also replace the Breed1Type with Type for when Breed1Type is null."
      ],
      "metadata": {
        "id": "BGP9cw-CVCC4"
      }
    },
    {
      "cell_type": "code",
      "source": [
        "# Replacing when value is null\n",
        "df.Breed1Type.fillna(df.Type, inplace=True)\n",
        "df.Breed1Name.fillna(df.Breed2Name, inplace=True)\n",
        "\n",
        "# Converting Breed1Type to Integer. We couldn't do it before because it had\n",
        "# null values, which in this pandas version are considered as float.\n",
        "df['Breed1Type'] = df['Breed1Type'].astype(int)"
      ],
      "metadata": {
        "id": "b8bqDgilxela"
      },
      "execution_count": 17,
      "outputs": []
    },
    {
      "cell_type": "code",
      "source": [
        "# We can see below that Breed1Name was replaced by Breed2Name\n",
        "df[df.Name == 'Lil Milo']"
      ],
      "metadata": {
        "id": "ym5l0JYd49Fb",
        "colab": {
          "base_uri": "https://localhost:8080/",
          "height": 226
        },
        "outputId": "6e1678f8-1e64-4761-bf44-938756c97d61"
      },
      "execution_count": 18,
      "outputs": [
        {
          "output_type": "execute_result",
          "data": {
            "text/plain": [
              "     Type      Name  Age  Breed1  Breed1Type                 Breed1Name  \\\n",
              "391     1  Lil Milo    2       0           1  Belgian Shepherd Malinois   \n",
              "\n",
              "     Breed2  Breed2Type                 Breed2Name  Gender  ...  Quantity Fee  \\\n",
              "391      26         1.0  Belgian Shepherd Malinois       2  ...         1   0   \n",
              "\n",
              "     State StateName                         RescuerID VideoAmt  \\\n",
              "391  41326  Selangor  1a2113010d6048d5410b265347b35c91        0   \n",
              "\n",
              "                                           Description      PetID  PhotoAmt  \\\n",
              "391  Milo went missing after a week with her new ad...  375905770       3.0   \n",
              "\n",
              "     AdoptionSpeed  \n",
              "391              3  \n",
              "\n",
              "[1 rows x 32 columns]"
            ],
            "text/html": [
              "\n",
              "  <div id=\"df-73735aef-8235-4eae-9d98-719382312800\">\n",
              "    <div class=\"colab-df-container\">\n",
              "      <div>\n",
              "<style scoped>\n",
              "    .dataframe tbody tr th:only-of-type {\n",
              "        vertical-align: middle;\n",
              "    }\n",
              "\n",
              "    .dataframe tbody tr th {\n",
              "        vertical-align: top;\n",
              "    }\n",
              "\n",
              "    .dataframe thead th {\n",
              "        text-align: right;\n",
              "    }\n",
              "</style>\n",
              "<table border=\"1\" class=\"dataframe\">\n",
              "  <thead>\n",
              "    <tr style=\"text-align: right;\">\n",
              "      <th></th>\n",
              "      <th>Type</th>\n",
              "      <th>Name</th>\n",
              "      <th>Age</th>\n",
              "      <th>Breed1</th>\n",
              "      <th>Breed1Type</th>\n",
              "      <th>Breed1Name</th>\n",
              "      <th>Breed2</th>\n",
              "      <th>Breed2Type</th>\n",
              "      <th>Breed2Name</th>\n",
              "      <th>Gender</th>\n",
              "      <th>...</th>\n",
              "      <th>Quantity</th>\n",
              "      <th>Fee</th>\n",
              "      <th>State</th>\n",
              "      <th>StateName</th>\n",
              "      <th>RescuerID</th>\n",
              "      <th>VideoAmt</th>\n",
              "      <th>Description</th>\n",
              "      <th>PetID</th>\n",
              "      <th>PhotoAmt</th>\n",
              "      <th>AdoptionSpeed</th>\n",
              "    </tr>\n",
              "  </thead>\n",
              "  <tbody>\n",
              "    <tr>\n",
              "      <th>391</th>\n",
              "      <td>1</td>\n",
              "      <td>Lil Milo</td>\n",
              "      <td>2</td>\n",
              "      <td>0</td>\n",
              "      <td>1</td>\n",
              "      <td>Belgian Shepherd Malinois</td>\n",
              "      <td>26</td>\n",
              "      <td>1.0</td>\n",
              "      <td>Belgian Shepherd Malinois</td>\n",
              "      <td>2</td>\n",
              "      <td>...</td>\n",
              "      <td>1</td>\n",
              "      <td>0</td>\n",
              "      <td>41326</td>\n",
              "      <td>Selangor</td>\n",
              "      <td>1a2113010d6048d5410b265347b35c91</td>\n",
              "      <td>0</td>\n",
              "      <td>Milo went missing after a week with her new ad...</td>\n",
              "      <td>375905770</td>\n",
              "      <td>3.0</td>\n",
              "      <td>3</td>\n",
              "    </tr>\n",
              "  </tbody>\n",
              "</table>\n",
              "<p>1 rows × 32 columns</p>\n",
              "</div>\n",
              "      <button class=\"colab-df-convert\" onclick=\"convertToInteractive('df-73735aef-8235-4eae-9d98-719382312800')\"\n",
              "              title=\"Convert this dataframe to an interactive table.\"\n",
              "              style=\"display:none;\">\n",
              "        \n",
              "  <svg xmlns=\"http://www.w3.org/2000/svg\" height=\"24px\"viewBox=\"0 0 24 24\"\n",
              "       width=\"24px\">\n",
              "    <path d=\"M0 0h24v24H0V0z\" fill=\"none\"/>\n",
              "    <path d=\"M18.56 5.44l.94 2.06.94-2.06 2.06-.94-2.06-.94-.94-2.06-.94 2.06-2.06.94zm-11 1L8.5 8.5l.94-2.06 2.06-.94-2.06-.94L8.5 2.5l-.94 2.06-2.06.94zm10 10l.94 2.06.94-2.06 2.06-.94-2.06-.94-.94-2.06-.94 2.06-2.06.94z\"/><path d=\"M17.41 7.96l-1.37-1.37c-.4-.4-.92-.59-1.43-.59-.52 0-1.04.2-1.43.59L10.3 9.45l-7.72 7.72c-.78.78-.78 2.05 0 2.83L4 21.41c.39.39.9.59 1.41.59.51 0 1.02-.2 1.41-.59l7.78-7.78 2.81-2.81c.8-.78.8-2.07 0-2.86zM5.41 20L4 18.59l7.72-7.72 1.47 1.35L5.41 20z\"/>\n",
              "  </svg>\n",
              "      </button>\n",
              "      \n",
              "  <style>\n",
              "    .colab-df-container {\n",
              "      display:flex;\n",
              "      flex-wrap:wrap;\n",
              "      gap: 12px;\n",
              "    }\n",
              "\n",
              "    .colab-df-convert {\n",
              "      background-color: #E8F0FE;\n",
              "      border: none;\n",
              "      border-radius: 50%;\n",
              "      cursor: pointer;\n",
              "      display: none;\n",
              "      fill: #1967D2;\n",
              "      height: 32px;\n",
              "      padding: 0 0 0 0;\n",
              "      width: 32px;\n",
              "    }\n",
              "\n",
              "    .colab-df-convert:hover {\n",
              "      background-color: #E2EBFA;\n",
              "      box-shadow: 0px 1px 2px rgba(60, 64, 67, 0.3), 0px 1px 3px 1px rgba(60, 64, 67, 0.15);\n",
              "      fill: #174EA6;\n",
              "    }\n",
              "\n",
              "    [theme=dark] .colab-df-convert {\n",
              "      background-color: #3B4455;\n",
              "      fill: #D2E3FC;\n",
              "    }\n",
              "\n",
              "    [theme=dark] .colab-df-convert:hover {\n",
              "      background-color: #434B5C;\n",
              "      box-shadow: 0px 1px 3px 1px rgba(0, 0, 0, 0.15);\n",
              "      filter: drop-shadow(0px 1px 2px rgba(0, 0, 0, 0.3));\n",
              "      fill: #FFFFFF;\n",
              "    }\n",
              "  </style>\n",
              "\n",
              "      <script>\n",
              "        const buttonEl =\n",
              "          document.querySelector('#df-73735aef-8235-4eae-9d98-719382312800 button.colab-df-convert');\n",
              "        buttonEl.style.display =\n",
              "          google.colab.kernel.accessAllowed ? 'block' : 'none';\n",
              "\n",
              "        async function convertToInteractive(key) {\n",
              "          const element = document.querySelector('#df-73735aef-8235-4eae-9d98-719382312800');\n",
              "          const dataTable =\n",
              "            await google.colab.kernel.invokeFunction('convertToInteractive',\n",
              "                                                     [key], {});\n",
              "          if (!dataTable) return;\n",
              "\n",
              "          const docLinkHtml = 'Like what you see? Visit the ' +\n",
              "            '<a target=\"_blank\" href=https://colab.research.google.com/notebooks/data_table.ipynb>data table notebook</a>'\n",
              "            + ' to learn more about interactive tables.';\n",
              "          element.innerHTML = '';\n",
              "          dataTable['output_type'] = 'display_data';\n",
              "          await google.colab.output.renderOutput(dataTable, element);\n",
              "          const docLink = document.createElement('div');\n",
              "          docLink.innerHTML = docLinkHtml;\n",
              "          element.appendChild(docLink);\n",
              "        }\n",
              "      </script>\n",
              "    </div>\n",
              "  </div>\n",
              "  "
            ]
          },
          "metadata": {},
          "execution_count": 18
        }
      ]
    },
    {
      "cell_type": "code",
      "source": [
        "df['Description'] = df['Description'].fillna('')"
      ],
      "metadata": {
        "id": "gRlgdt2GVkXo"
      },
      "execution_count": 19,
      "outputs": []
    },
    {
      "cell_type": "markdown",
      "source": [
        "## Consistency check"
      ],
      "metadata": {
        "id": "hDkaYA65U9fU"
      }
    },
    {
      "cell_type": "markdown",
      "source": [
        "### Code"
      ],
      "metadata": {
        "id": "05kDpNZL29iB"
      }
    },
    {
      "cell_type": "code",
      "source": [
        "df.PetID.is_unique"
      ],
      "metadata": {
        "id": "mnMAGYs-U6rB",
        "colab": {
          "base_uri": "https://localhost:8080/"
        },
        "outputId": "fa3c8156-32e9-4194-e599-00addec2b8f8"
      },
      "execution_count": 20,
      "outputs": [
        {
          "output_type": "execute_result",
          "data": {
            "text/plain": [
              "True"
            ]
          },
          "metadata": {},
          "execution_count": 20
        }
      ]
    },
    {
      "cell_type": "code",
      "source": [
        "df.PetID.isna().sum()"
      ],
      "metadata": {
        "id": "1NP7dLY8WL5c",
        "colab": {
          "base_uri": "https://localhost:8080/"
        },
        "outputId": "a2fb8bdd-ca0a-484e-e8c0-3d22c1a2d076"
      },
      "execution_count": 21,
      "outputs": [
        {
          "output_type": "execute_result",
          "data": {
            "text/plain": [
              "0"
            ]
          },
          "metadata": {},
          "execution_count": 21
        }
      ]
    },
    {
      "cell_type": "code",
      "source": [
        "df.AdoptionSpeed.value_counts(dropna=False)"
      ],
      "metadata": {
        "id": "MT95Z-3YVXIi",
        "colab": {
          "base_uri": "https://localhost:8080/"
        },
        "outputId": "669f2e4f-2f17-4a0e-d65e-60aa8651645d"
      },
      "execution_count": 22,
      "outputs": [
        {
          "output_type": "execute_result",
          "data": {
            "text/plain": [
              "4    4197\n",
              "2    4037\n",
              "3    3259\n",
              "1    3090\n",
              "0     410\n",
              "Name: AdoptionSpeed, dtype: int64"
            ]
          },
          "metadata": {},
          "execution_count": 22
        }
      ]
    },
    {
      "cell_type": "code",
      "source": [
        "df.AdoptionSpeed.hist()"
      ],
      "metadata": {
        "id": "0RRlUwWPWeu4",
        "colab": {
          "base_uri": "https://localhost:8080/",
          "height": 282
        },
        "outputId": "598714ec-609d-46b2-81f5-5fa95c32da09"
      },
      "execution_count": 23,
      "outputs": [
        {
          "output_type": "execute_result",
          "data": {
            "text/plain": [
              "<matplotlib.axes._subplots.AxesSubplot at 0x7f10610bdb90>"
            ]
          },
          "metadata": {},
          "execution_count": 23
        },
        {
          "output_type": "display_data",
          "data": {
            "text/plain": [
              "<Figure size 432x288 with 1 Axes>"
            ],
            "image/png": "[encoded data removed]"
          },
          "metadata": {
            "needs_background": "light"
          }
        }
      ]
    },
    {
      "cell_type": "code",
      "source": [
        "df.Type.value_counts(dropna=False)"
      ],
      "metadata": {
        "id": "xcindbtpXYEY",
        "colab": {
          "base_uri": "https://localhost:8080/"
        },
        "outputId": "937cb514-dfa7-4ac8-dab6-716da3e53d61"
      },
      "execution_count": 24,
      "outputs": [
        {
          "output_type": "execute_result",
          "data": {
            "text/plain": [
              "1    8132\n",
              "2    6861\n",
              "Name: Type, dtype: int64"
            ]
          },
          "metadata": {},
          "execution_count": 24
        }
      ]
    },
    {
      "cell_type": "code",
      "source": [
        "df.Name.is_unique"
      ],
      "metadata": {
        "id": "Xn-R5euDYYWE",
        "colab": {
          "base_uri": "https://localhost:8080/"
        },
        "outputId": "8296cd5c-d5b4-44d8-a779-7d27e88130d2"
      },
      "execution_count": 25,
      "outputs": [
        {
          "output_type": "execute_result",
          "data": {
            "text/plain": [
              "False"
            ]
          },
          "metadata": {},
          "execution_count": 25
        }
      ]
    },
    {
      "cell_type": "code",
      "source": [
        "df.Name.value_counts(dropna=False)[:50]"
      ],
      "metadata": {
        "id": "xM9X9VpdYf2i",
        "colab": {
          "base_uri": "https://localhost:8080/"
        },
        "outputId": "9e8e0c53-a3bb-4f73-f61f-ce79543155fc"
      },
      "execution_count": 26,
      "outputs": [
        {
          "output_type": "execute_result",
          "data": {
            "text/plain": [
              "NaN            1257\n",
              "Baby             66\n",
              "Lucky            64\n",
              "No Name          54\n",
              "Brownie          54\n",
              "Mimi             52\n",
              "Blackie          49\n",
              "Puppy            45\n",
              "Kittens          39\n",
              "Max              39\n",
              "Kitty            39\n",
              "Oreo             36\n",
              "Coco             35\n",
              "Tiger            34\n",
              "Angel            33\n",
              "Milo             32\n",
              "Bobby            30\n",
              "Snowy            30\n",
              "Lucy             29\n",
              "Kiki             29\n",
              "Lily             28\n",
              "Tom              27\n",
              "Ginger           26\n",
              "Puppies          26\n",
              "Prince           25\n",
              "Happy            25\n",
              "Daisy            24\n",
              "Lola             23\n",
              "Kitten           23\n",
              "Bella            23\n",
              "Rocky            23\n",
              "Simba            23\n",
              "Princess         22\n",
              "Molly            22\n",
              "Momo             22\n",
              "No Name Yet      22\n",
              "Luna             22\n",
              "Buddy            21\n",
              "Panda            21\n",
              "Fluffy           21\n",
              "Tommy            21\n",
              "Bobo             20\n",
              "Snow             20\n",
              "Peanut           20\n",
              "Cookie           20\n",
              "Toby             19\n",
              "Mickey           18\n",
              "Shadow           18\n",
              "Blacky           18\n",
              "Lulu             17\n",
              "Name: Name, dtype: int64"
            ]
          },
          "metadata": {},
          "execution_count": 26
        }
      ]
    },
    {
      "cell_type": "code",
      "source": [
        "# Guessing some generic \"unnamed\" names\n",
        "df.Name.value_counts()[['Puppy', 'Puppies', 'Kitten', 'Kittens', 'Dog', 'Dogs', 'Cat', 'No Name', 'No Name Yet', 'Unnamed']]"
      ],
      "metadata": {
        "id": "JuezNrNSZ2LW",
        "colab": {
          "base_uri": "https://localhost:8080/"
        },
        "outputId": "011a68b3-2691-4d58-e986-5ea3c101615e"
      },
      "execution_count": 27,
      "outputs": [
        {
          "output_type": "execute_result",
          "data": {
            "text/plain": [
              "Puppy          45\n",
              "Puppies        26\n",
              "Kitten         23\n",
              "Kittens        39\n",
              "Dog             3\n",
              "Dogs            1\n",
              "Cat             4\n",
              "No Name        54\n",
              "No Name Yet    22\n",
              "Unnamed         5\n",
              "Name: Name, dtype: int64"
            ]
          },
          "metadata": {},
          "execution_count": 27
        }
      ]
    },
    {
      "cell_type": "code",
      "source": [
        "df.Age.hist()"
      ],
      "metadata": {
        "id": "_ajFI-g1oXCc",
        "colab": {
          "base_uri": "https://localhost:8080/",
          "height": 284
        },
        "outputId": "dcfa12b0-2963-48e0-a458-fee3aaa1727e"
      },
      "execution_count": 28,
      "outputs": [
        {
          "output_type": "execute_result",
          "data": {
            "text/plain": [
              "<matplotlib.axes._subplots.AxesSubplot at 0x7f1060b028d0>"
            ]
          },
          "metadata": {},
          "execution_count": 28
        },
        {
          "output_type": "display_data",
          "data": {
            "text/plain": [
              "<Figure size 432x288 with 1 Axes>"
            ],
            "image/png": "[encoded data removed]"
          },
          "metadata": {
            "needs_background": "light"
          }
        }
      ]
    },
    {
      "cell_type": "code",
      "source": [
        "df.Age.describe()"
      ],
      "metadata": {
        "id": "3pwLxv-kocBz",
        "colab": {
          "base_uri": "https://localhost:8080/"
        },
        "outputId": "ae93fe6c-5356-4397-90c4-6627af984e38"
      },
      "execution_count": 29,
      "outputs": [
        {
          "output_type": "execute_result",
          "data": {
            "text/plain": [
              "count    14993.000000\n",
              "mean        10.452078\n",
              "std         18.155790\n",
              "min          0.000000\n",
              "25%          2.000000\n",
              "50%          3.000000\n",
              "75%         12.000000\n",
              "max        255.000000\n",
              "Name: Age, dtype: float64"
            ]
          },
          "metadata": {},
          "execution_count": 29
        }
      ]
    },
    {
      "cell_type": "code",
      "source": [
        "(df.Age / 12).describe()"
      ],
      "metadata": {
        "id": "mPq5QtZypQKv",
        "colab": {
          "base_uri": "https://localhost:8080/"
        },
        "outputId": "aa09b4b7-06b1-44cd-bd07-183d3f2ca217"
      },
      "execution_count": 30,
      "outputs": [
        {
          "output_type": "execute_result",
          "data": {
            "text/plain": [
              "count    14993.000000\n",
              "mean         0.871006\n",
              "std          1.512983\n",
              "min          0.000000\n",
              "25%          0.166667\n",
              "50%          0.250000\n",
              "75%          1.000000\n",
              "max         21.250000\n",
              "Name: Age, dtype: float64"
            ]
          },
          "metadata": {},
          "execution_count": 30
        }
      ]
    },
    {
      "cell_type": "code",
      "source": [
        "df[['Breed1', 'Breed1Type', 'Breed1Name', 'Breed2', 'Breed2Type', 'Breed2Name']]"
      ],
      "metadata": {
        "id": "uzDQLg9iXvFl",
        "colab": {
          "base_uri": "https://localhost:8080/",
          "height": 424
        },
        "outputId": "e6403b78-e8b2-4cf2-f3a3-33ade4403b2a"
      },
      "execution_count": 31,
      "outputs": [
        {
          "output_type": "execute_result",
          "data": {
            "text/plain": [
              "       Breed1  Breed1Type            Breed1Name  Breed2  Breed2Type  \\\n",
              "0         299           2                 Tabby       0         NaN   \n",
              "1         265           2  Domestic Medium Hair       0         NaN   \n",
              "2         307           1           Mixed Breed       0         NaN   \n",
              "3         307           1           Mixed Breed       0         NaN   \n",
              "4         307           1           Mixed Breed       0         NaN   \n",
              "...       ...         ...                   ...     ...         ...   \n",
              "14988     266           2   Domestic Short Hair       0         NaN   \n",
              "14989     265           2  Domestic Medium Hair     264         2.0   \n",
              "14990     265           2  Domestic Medium Hair     266         2.0   \n",
              "14991     266           2   Domestic Short Hair       0         NaN   \n",
              "14992     307           1           Mixed Breed     307         1.0   \n",
              "\n",
              "                Breed2Name  \n",
              "0                      NaN  \n",
              "1                      NaN  \n",
              "2                      NaN  \n",
              "3                      NaN  \n",
              "4                      NaN  \n",
              "...                    ...  \n",
              "14988                  NaN  \n",
              "14989   Domestic Long Hair  \n",
              "14990  Domestic Short Hair  \n",
              "14991                  NaN  \n",
              "14992          Mixed Breed  \n",
              "\n",
              "[14993 rows x 6 columns]"
            ],
            "text/html": [
              "\n",
              "  <div id=\"df-66e52596-c1c7-4167-b7a2-9b157440c448\">\n",
              "    <div class=\"colab-df-container\">\n",
              "      <div>\n",
              "<style scoped>\n",
              "    .dataframe tbody tr th:only-of-type {\n",
              "        vertical-align: middle;\n",
              "    }\n",
              "\n",
              "    .dataframe tbody tr th {\n",
              "        vertical-align: top;\n",
              "    }\n",
              "\n",
              "    .dataframe thead th {\n",
              "        text-align: right;\n",
              "    }\n",
              "</style>\n",
              "<table border=\"1\" class=\"dataframe\">\n",
              "  <thead>\n",
              "    <tr style=\"text-align: right;\">\n",
              "      <th></th>\n",
              "      <th>Breed1</th>\n",
              "      <th>Breed1Type</th>\n",
              "      <th>Breed1Name</th>\n",
              "      <th>Breed2</th>\n",
              "      <th>Breed2Type</th>\n",
              "      <th>Breed2Name</th>\n",
              "    </tr>\n",
              "  </thead>\n",
              "  <tbody>\n",
              "    <tr>\n",
              "      <th>0</th>\n",
              "      <td>299</td>\n",
              "      <td>2</td>\n",
              "      <td>Tabby</td>\n",
              "      <td>0</td>\n",
              "      <td>NaN</td>\n",
              "      <td>NaN</td>\n",
              "    </tr>\n",
              "    <tr>\n",
              "      <th>1</th>\n",
              "      <td>265</td>\n",
              "      <td>2</td>\n",
              "      <td>Domestic Medium Hair</td>\n",
              "      <td>0</td>\n",
              "      <td>NaN</td>\n",
              "      <td>NaN</td>\n",
              "    </tr>\n",
              "    <tr>\n",
              "      <th>2</th>\n",
              "      <td>307</td>\n",
              "      <td>1</td>\n",
              "      <td>Mixed Breed</td>\n",
              "      <td>0</td>\n",
              "      <td>NaN</td>\n",
              "      <td>NaN</td>\n",
              "    </tr>\n",
              "    <tr>\n",
              "      <th>3</th>\n",
              "      <td>307</td>\n",
              "      <td>1</td>\n",
              "      <td>Mixed Breed</td>\n",
              "      <td>0</td>\n",
              "      <td>NaN</td>\n",
              "      <td>NaN</td>\n",
              "    </tr>\n",
              "    <tr>\n",
              "      <th>4</th>\n",
              "      <td>307</td>\n",
              "      <td>1</td>\n",
              "      <td>Mixed Breed</td>\n",
              "      <td>0</td>\n",
              "      <td>NaN</td>\n",
              "      <td>NaN</td>\n",
              "    </tr>\n",
              "    <tr>\n",
              "      <th>...</th>\n",
              "      <td>...</td>\n",
              "      <td>...</td>\n",
              "      <td>...</td>\n",
              "      <td>...</td>\n",
              "      <td>...</td>\n",
              "      <td>...</td>\n",
              "    </tr>\n",
              "    <tr>\n",
              "      <th>14988</th>\n",
              "      <td>266</td>\n",
              "      <td>2</td>\n",
              "      <td>Domestic Short Hair</td>\n",
              "      <td>0</td>\n",
              "      <td>NaN</td>\n",
              "      <td>NaN</td>\n",
              "    </tr>\n",
              "    <tr>\n",
              "      <th>14989</th>\n",
              "      <td>265</td>\n",
              "      <td>2</td>\n",
              "      <td>Domestic Medium Hair</td>\n",
              "      <td>264</td>\n",
              "      <td>2.0</td>\n",
              "      <td>Domestic Long Hair</td>\n",
              "    </tr>\n",
              "    <tr>\n",
              "      <th>14990</th>\n",
              "      <td>265</td>\n",
              "      <td>2</td>\n",
              "      <td>Domestic Medium Hair</td>\n",
              "      <td>266</td>\n",
              "      <td>2.0</td>\n",
              "      <td>Domestic Short Hair</td>\n",
              "    </tr>\n",
              "    <tr>\n",
              "      <th>14991</th>\n",
              "      <td>266</td>\n",
              "      <td>2</td>\n",
              "      <td>Domestic Short Hair</td>\n",
              "      <td>0</td>\n",
              "      <td>NaN</td>\n",
              "      <td>NaN</td>\n",
              "    </tr>\n",
              "    <tr>\n",
              "      <th>14992</th>\n",
              "      <td>307</td>\n",
              "      <td>1</td>\n",
              "      <td>Mixed Breed</td>\n",
              "      <td>307</td>\n",
              "      <td>1.0</td>\n",
              "      <td>Mixed Breed</td>\n",
              "    </tr>\n",
              "  </tbody>\n",
              "</table>\n",
              "<p>14993 rows × 6 columns</p>\n",
              "</div>\n",
              "      <button class=\"colab-df-convert\" onclick=\"convertToInteractive('df-66e52596-c1c7-4167-b7a2-9b157440c448')\"\n",
              "              title=\"Convert this dataframe to an interactive table.\"\n",
              "              style=\"display:none;\">\n",
              "        \n",
              "  <svg xmlns=\"http://www.w3.org/2000/svg\" height=\"24px\"viewBox=\"0 0 24 24\"\n",
              "       width=\"24px\">\n",
              "    <path d=\"M0 0h24v24H0V0z\" fill=\"none\"/>\n",
              "    <path d=\"M18.56 5.44l.94 2.06.94-2.06 2.06-.94-2.06-.94-.94-2.06-.94 2.06-2.06.94zm-11 1L8.5 8.5l.94-2.06 2.06-.94-2.06-.94L8.5 2.5l-.94 2.06-2.06.94zm10 10l.94 2.06.94-2.06 2.06-.94-2.06-.94-.94-2.06-.94 2.06-2.06.94z\"/><path d=\"M17.41 7.96l-1.37-1.37c-.4-.4-.92-.59-1.43-.59-.52 0-1.04.2-1.43.59L10.3 9.45l-7.72 7.72c-.78.78-.78 2.05 0 2.83L4 21.41c.39.39.9.59 1.41.59.51 0 1.02-.2 1.41-.59l7.78-7.78 2.81-2.81c.8-.78.8-2.07 0-2.86zM5.41 20L4 18.59l7.72-7.72 1.47 1.35L5.41 20z\"/>\n",
              "  </svg>\n",
              "      </button>\n",
              "      \n",
              "  <style>\n",
              "    .colab-df-container {\n",
              "      display:flex;\n",
              "      flex-wrap:wrap;\n",
              "      gap: 12px;\n",
              "    }\n",
              "\n",
              "    .colab-df-convert {\n",
              "      background-color: #E8F0FE;\n",
              "      border: none;\n",
              "      border-radius: 50%;\n",
              "      cursor: pointer;\n",
              "      display: none;\n",
              "      fill: #1967D2;\n",
              "      height: 32px;\n",
              "      padding: 0 0 0 0;\n",
              "      width: 32px;\n",
              "    }\n",
              "\n",
              "    .colab-df-convert:hover {\n",
              "      background-color: #E2EBFA;\n",
              "      box-shadow: 0px 1px 2px rgba(60, 64, 67, 0.3), 0px 1px 3px 1px rgba(60, 64, 67, 0.15);\n",
              "      fill: #174EA6;\n",
              "    }\n",
              "\n",
              "    [theme=dark] .colab-df-convert {\n",
              "      background-color: #3B4455;\n",
              "      fill: #D2E3FC;\n",
              "    }\n",
              "\n",
              "    [theme=dark] .colab-df-convert:hover {\n",
              "      background-color: #434B5C;\n",
              "      box-shadow: 0px 1px 3px 1px rgba(0, 0, 0, 0.15);\n",
              "      filter: drop-shadow(0px 1px 2px rgba(0, 0, 0, 0.3));\n",
              "      fill: #FFFFFF;\n",
              "    }\n",
              "  </style>\n",
              "\n",
              "      <script>\n",
              "        const buttonEl =\n",
              "          document.querySelector('#df-66e52596-c1c7-4167-b7a2-9b157440c448 button.colab-df-convert');\n",
              "        buttonEl.style.display =\n",
              "          google.colab.kernel.accessAllowed ? 'block' : 'none';\n",
              "\n",
              "        async function convertToInteractive(key) {\n",
              "          const element = document.querySelector('#df-66e52596-c1c7-4167-b7a2-9b157440c448');\n",
              "          const dataTable =\n",
              "            await google.colab.kernel.invokeFunction('convertToInteractive',\n",
              "                                                     [key], {});\n",
              "          if (!dataTable) return;\n",
              "\n",
              "          const docLinkHtml = 'Like what you see? Visit the ' +\n",
              "            '<a target=\"_blank\" href=https://colab.research.google.com/notebooks/data_table.ipynb>data table notebook</a>'\n",
              "            + ' to learn more about interactive tables.';\n",
              "          element.innerHTML = '';\n",
              "          dataTable['output_type'] = 'display_data';\n",
              "          await google.colab.output.renderOutput(dataTable, element);\n",
              "          const docLink = document.createElement('div');\n",
              "          docLink.innerHTML = docLinkHtml;\n",
              "          element.appendChild(docLink);\n",
              "        }\n",
              "      </script>\n",
              "    </div>\n",
              "  </div>\n",
              "  "
            ]
          },
          "metadata": {},
          "execution_count": 31
        }
      ]
    },
    {
      "cell_type": "code",
      "source": [
        "# Top dog breeds\n",
        "df[df['Breed1Type'] == 1]['Breed1Name'].value_counts(dropna=False) / df[df['Breed1Type'] == 1].shape[0]"
      ],
      "metadata": {
        "id": "sWJd3kPVX9a8",
        "colab": {
          "base_uri": "https://localhost:8080/"
        },
        "outputId": "bb0cec45-caca-42d7-9797-9761ccd0b176"
      },
      "execution_count": 32,
      "outputs": [
        {
          "output_type": "execute_result",
          "data": {
            "text/plain": [
              "Mixed Breed                     0.728021\n",
              "Labrador Retriever              0.025172\n",
              "Shih Tzu                        0.023453\n",
              "Poodle                          0.020506\n",
              "Terrier                         0.019892\n",
              "                                  ...   \n",
              "Chocolate Labrador Retriever    0.000123\n",
              "Sheep Dog                       0.000123\n",
              "Australian Shepherd             0.000123\n",
              "Old English Sheepdog            0.000123\n",
              "Dutch Shepherd                  0.000123\n",
              "Name: Breed1Name, Length: 116, dtype: float64"
            ]
          },
          "metadata": {},
          "execution_count": 32
        }
      ]
    },
    {
      "cell_type": "code",
      "source": [
        "# Top cat breeds\n",
        "df[df['Breed1Type'] == 2]['Breed1Name'].value_counts(dropna=False) / df[df['Breed1Type'] == 2].shape[0]"
      ],
      "metadata": {
        "id": "8tFU6uGKYJ3y",
        "colab": {
          "base_uri": "https://localhost:8080/"
        },
        "outputId": "0cb0b36d-9791-4b06-b655-29a94a89a5b6"
      },
      "execution_count": 33,
      "outputs": [
        {
          "output_type": "execute_result",
          "data": {
            "text/plain": [
              "Domestic Short Hair                      0.530734\n",
              "Domestic Medium Hair                     0.183676\n",
              "Tabby                                    0.049934\n",
              "Domestic Long Hair                       0.043218\n",
              "Siamese                                  0.038546\n",
              "Persian                                  0.032267\n",
              "Calico                                   0.015331\n",
              "American Shorthair                       0.013725\n",
              "Oriental Short Hair                      0.010658\n",
              "Bengal                                   0.010366\n",
              "Tuxedo                                   0.008176\n",
              "Tortoiseshell                            0.006132\n",
              "Maine Coon                               0.004964\n",
              "British Shorthair                        0.004964\n",
              "Abyssinian                               0.004088\n",
              "Russian Blue                             0.003796\n",
              "Burmese                                  0.003358\n",
              "Tiger                                    0.003066\n",
              "Bobtail                                  0.002774\n",
              "Oriental Long Hair                       0.002482\n",
              "American Curl                            0.002482\n",
              "Ragdoll                                  0.002336\n",
              "Bombay                                   0.002044\n",
              "Singapura                                0.001898\n",
              "Turkish Van                              0.001168\n",
              "Manx                                     0.001168\n",
              "Turkish Angora                           0.001022\n",
              "Oriental Tabby                           0.001022\n",
              "Javanese                                 0.001022\n",
              "Exotic Shorthair                         0.000876\n",
              "Japanese Bobtail                         0.000876\n",
              "Korat                                    0.000730\n",
              "Somali                                   0.000730\n",
              "Snowshoe                                 0.000730\n",
              "Tonkinese                                0.000730\n",
              "Burmilla                                 0.000730\n",
              "American Wirehair                        0.000730\n",
              "Norwegian Forest Cat                     0.000730\n",
              "Balinese                                 0.000584\n",
              "Silver                                   0.000584\n",
              "Siberian                                 0.000438\n",
              "Dilute Tortoiseshell                     0.000438\n",
              "Dilute Calico                            0.000438\n",
              "Himalayan                                0.000438\n",
              "Nebelung                                 0.000438\n",
              "Egyptian Mau                             0.000438\n",
              "Chartreux                                0.000292\n",
              "Birman                                   0.000292\n",
              "Ocicat                                   0.000292\n",
              "Havana                                   0.000292\n",
              "Applehead Siamese                        0.000292\n",
              "Cymric                                   0.000292\n",
              "Extra-Toes Cat (Hemingway Polydactyl)    0.000292\n",
              "Sphynx (hairless cat)                    0.000146\n",
              "Torbie                                   0.000146\n",
              "Pixie-Bob                                0.000146\n",
              "Chausie                                  0.000146\n",
              "Scottish Fold                            0.000146\n",
              "Ragamuffin                               0.000146\n",
              "Name: Breed1Name, dtype: float64"
            ]
          },
          "metadata": {},
          "execution_count": 33
        }
      ]
    },
    {
      "cell_type": "code",
      "source": [
        "len(df[df['Breed1Type'] == 2]['Breed1Name'].unique())"
      ],
      "metadata": {
        "id": "1_5YM8mIaC0q",
        "colab": {
          "base_uri": "https://localhost:8080/"
        },
        "outputId": "f780b0a0-e79e-4067-a625-f8251b99616f"
      },
      "execution_count": 34,
      "outputs": [
        {
          "output_type": "execute_result",
          "data": {
            "text/plain": [
              "59"
            ]
          },
          "metadata": {},
          "execution_count": 34
        }
      ]
    },
    {
      "cell_type": "code",
      "source": [
        "df['Gender'].value_counts()"
      ],
      "metadata": {
        "id": "O0ywpMBMbfXr",
        "colab": {
          "base_uri": "https://localhost:8080/"
        },
        "outputId": "b3da0ea4-5458-4d1c-840a-c1ad2bff74a8"
      },
      "execution_count": 35,
      "outputs": [
        {
          "output_type": "execute_result",
          "data": {
            "text/plain": [
              "2    7277\n",
              "1    5536\n",
              "3    2180\n",
              "Name: Gender, dtype: int64"
            ]
          },
          "metadata": {},
          "execution_count": 35
        }
      ]
    },
    {
      "cell_type": "code",
      "source": [
        "df['Gender'].value_counts() / ((df['Gender']==1).sum() + (df['Gender']==2).sum())"
      ],
      "metadata": {
        "id": "JWatClL7b0Vi",
        "colab": {
          "base_uri": "https://localhost:8080/"
        },
        "outputId": "157253aa-ec77-434d-e18e-1af846556b05"
      },
      "execution_count": 36,
      "outputs": [
        {
          "output_type": "execute_result",
          "data": {
            "text/plain": [
              "2    0.567939\n",
              "1    0.432061\n",
              "3    0.170140\n",
              "Name: Gender, dtype: float64"
            ]
          },
          "metadata": {},
          "execution_count": 36
        }
      ]
    },
    {
      "cell_type": "code",
      "source": [
        "df['Color1Name'].value_counts(dropna=False) / df.shape[0]"
      ],
      "metadata": {
        "id": "T_rJCLUmct2T",
        "colab": {
          "base_uri": "https://localhost:8080/"
        },
        "outputId": "ccf7076e-a3a8-4a0d-88bc-b53cca836dbd"
      },
      "execution_count": 37,
      "outputs": [
        {
          "output_type": "execute_result",
          "data": {
            "text/plain": [
              "Black     0.495365\n",
              "Brown     0.250117\n",
              "Golden    0.063163\n",
              "Cream     0.058961\n",
              "Gray      0.045621\n",
              "White     0.044487\n",
              "Yellow    0.042286\n",
              "Name: Color1Name, dtype: float64"
            ]
          },
          "metadata": {},
          "execution_count": 37
        }
      ]
    },
    {
      "cell_type": "code",
      "source": [
        "df['MaturitySize'].value_counts(dropna=False) / df.shape[0]"
      ],
      "metadata": {
        "id": "WagPe1ifdbqe",
        "colab": {
          "base_uri": "https://localhost:8080/"
        },
        "outputId": "f5d22cb4-940e-4cc8-83f9-60c0877d001e"
      },
      "execution_count": 38,
      "outputs": [
        {
          "output_type": "execute_result",
          "data": {
            "text/plain": [
              "2    0.687321\n",
              "1    0.226439\n",
              "3    0.084039\n",
              "4    0.002201\n",
              "Name: MaturitySize, dtype: float64"
            ]
          },
          "metadata": {},
          "execution_count": 38
        }
      ]
    },
    {
      "cell_type": "code",
      "source": [
        "df['FurLength'].value_counts(dropna=False) / df.shape[0]"
      ],
      "metadata": {
        "id": "MUZ_AzWWei-e",
        "colab": {
          "base_uri": "https://localhost:8080/"
        },
        "outputId": "3e3c1ec9-380f-40f0-cc02-616200dc4e4a"
      },
      "execution_count": 39,
      "outputs": [
        {
          "output_type": "execute_result",
          "data": {
            "text/plain": [
              "1    0.587474\n",
              "2    0.357567\n",
              "3    0.054959\n",
              "Name: FurLength, dtype: float64"
            ]
          },
          "metadata": {},
          "execution_count": 39
        }
      ]
    },
    {
      "cell_type": "code",
      "source": [
        "df['Vaccinated'].value_counts(dropna=False) / df.shape[0]"
      ],
      "metadata": {
        "id": "26Toaxj1e6-Z",
        "colab": {
          "base_uri": "https://localhost:8080/"
        },
        "outputId": "ec1744ce-0645-490d-a99c-540f8fdd7472"
      },
      "execution_count": 40,
      "outputs": [
        {
          "output_type": "execute_result",
          "data": {
            "text/plain": [
              "2    0.482025\n",
              "1    0.393384\n",
              "3    0.124591\n",
              "Name: Vaccinated, dtype: float64"
            ]
          },
          "metadata": {},
          "execution_count": 40
        }
      ]
    },
    {
      "cell_type": "code",
      "source": [
        "df['Dewormed'].value_counts(dropna=False) / df.shape[0]"
      ],
      "metadata": {
        "id": "wWQJBqJAfWUm",
        "colab": {
          "base_uri": "https://localhost:8080/"
        },
        "outputId": "7cc55028-23cd-4250-eadb-b42aa39b8652"
      },
      "execution_count": 41,
      "outputs": [
        {
          "output_type": "execute_result",
          "data": {
            "text/plain": [
              "1    0.560061\n",
              "2    0.321150\n",
              "3    0.118789\n",
              "Name: Dewormed, dtype: float64"
            ]
          },
          "metadata": {},
          "execution_count": 41
        }
      ]
    },
    {
      "cell_type": "code",
      "source": [
        "df['Sterilized'].value_counts(dropna=False) / df.shape[0]"
      ],
      "metadata": {
        "id": "bzEVbCGVfpfw",
        "colab": {
          "base_uri": "https://localhost:8080/"
        },
        "outputId": "7be48313-eb3d-44bd-8b84-ab46ee5e6d38"
      },
      "execution_count": 42,
      "outputs": [
        {
          "output_type": "execute_result",
          "data": {
            "text/plain": [
              "2    0.672114\n",
              "1    0.206830\n",
              "3    0.121056\n",
              "Name: Sterilized, dtype: float64"
            ]
          },
          "metadata": {},
          "execution_count": 42
        }
      ]
    },
    {
      "cell_type": "code",
      "source": [
        "df['Health'].value_counts(dropna=False) / df.shape[0]"
      ],
      "metadata": {
        "id": "aWj6NCWogGMV",
        "colab": {
          "base_uri": "https://localhost:8080/"
        },
        "outputId": "4af2c871-cf97-4701-d1a5-99cad870109a"
      },
      "execution_count": 43,
      "outputs": [
        {
          "output_type": "execute_result",
          "data": {
            "text/plain": [
              "1    0.965651\n",
              "2    0.032082\n",
              "3    0.002268\n",
              "Name: Health, dtype: float64"
            ]
          },
          "metadata": {},
          "execution_count": 43
        }
      ]
    },
    {
      "cell_type": "code",
      "source": [
        "df['Quantity'].value_counts()"
      ],
      "metadata": {
        "id": "MadgSkZUiLVA",
        "colab": {
          "base_uri": "https://localhost:8080/"
        },
        "outputId": "ff3675af-98f7-4ecb-e3f7-4144f57326ae"
      },
      "execution_count": 44,
      "outputs": [
        {
          "output_type": "execute_result",
          "data": {
            "text/plain": [
              "1     11565\n",
              "2      1422\n",
              "3       726\n",
              "4       531\n",
              "5       333\n",
              "6       185\n",
              "7        84\n",
              "8        52\n",
              "9        33\n",
              "10       19\n",
              "20       12\n",
              "11       10\n",
              "12        6\n",
              "15        4\n",
              "17        3\n",
              "16        3\n",
              "14        2\n",
              "13        2\n",
              "18        1\n",
              "Name: Quantity, dtype: int64"
            ]
          },
          "metadata": {},
          "execution_count": 44
        }
      ]
    },
    {
      "cell_type": "code",
      "source": [
        "df['Quantity'].value_counts() / df.shape[0]"
      ],
      "metadata": {
        "id": "Z54DklzAiUKU",
        "colab": {
          "base_uri": "https://localhost:8080/"
        },
        "outputId": "ce90362d-7435-40e3-a21e-f67ce0b8383f"
      },
      "execution_count": 45,
      "outputs": [
        {
          "output_type": "execute_result",
          "data": {
            "text/plain": [
              "1     0.771360\n",
              "2     0.094844\n",
              "3     0.048423\n",
              "4     0.035417\n",
              "5     0.022210\n",
              "6     0.012339\n",
              "7     0.005603\n",
              "8     0.003468\n",
              "9     0.002201\n",
              "10    0.001267\n",
              "20    0.000800\n",
              "11    0.000667\n",
              "12    0.000400\n",
              "15    0.000267\n",
              "17    0.000200\n",
              "16    0.000200\n",
              "14    0.000133\n",
              "13    0.000133\n",
              "18    0.000067\n",
              "Name: Quantity, dtype: float64"
            ]
          },
          "metadata": {},
          "execution_count": 45
        }
      ]
    },
    {
      "cell_type": "code",
      "source": [
        "df['Fee'].describe()"
      ],
      "metadata": {
        "id": "jNnEJHHuisZE",
        "colab": {
          "base_uri": "https://localhost:8080/"
        },
        "outputId": "6c2feaae-e7c1-4385-c7e7-1ffc48cf4f10"
      },
      "execution_count": 46,
      "outputs": [
        {
          "output_type": "execute_result",
          "data": {
            "text/plain": [
              "count    14993.000000\n",
              "mean        21.259988\n",
              "std         78.414548\n",
              "min          0.000000\n",
              "25%          0.000000\n",
              "50%          0.000000\n",
              "75%          0.000000\n",
              "max       3000.000000\n",
              "Name: Fee, dtype: float64"
            ]
          },
          "metadata": {},
          "execution_count": 46
        }
      ]
    },
    {
      "cell_type": "code",
      "source": [
        "df['Fee'].value_counts() / df.shape[0]"
      ],
      "metadata": {
        "id": "sTAUqZhlig4-",
        "colab": {
          "base_uri": "https://localhost:8080/"
        },
        "outputId": "d29e3ea8-3111-4518-93d2-64ec52230ea9"
      },
      "execution_count": 47,
      "outputs": [
        {
          "output_type": "execute_result",
          "data": {
            "text/plain": [
              "0      0.844594\n",
              "50     0.031215\n",
              "100    0.027213\n",
              "200    0.014607\n",
              "150    0.010805\n",
              "         ...   \n",
              "170    0.000067\n",
              "135    0.000067\n",
              "14     0.000067\n",
              "89     0.000067\n",
              "190    0.000067\n",
              "Name: Fee, Length: 74, dtype: float64"
            ]
          },
          "metadata": {},
          "execution_count": 47
        }
      ]
    },
    {
      "cell_type": "code",
      "source": [
        "df['RescuerID'].is_unique"
      ],
      "metadata": {
        "id": "5lbNysSXjHNu",
        "colab": {
          "base_uri": "https://localhost:8080/"
        },
        "outputId": "f0db1426-fc6a-48bd-e471-3349fe0d5dca"
      },
      "execution_count": 48,
      "outputs": [
        {
          "output_type": "execute_result",
          "data": {
            "text/plain": [
              "False"
            ]
          },
          "metadata": {},
          "execution_count": 48
        }
      ]
    },
    {
      "cell_type": "code",
      "source": [
        "df['RescuerID'].value_counts()"
      ],
      "metadata": {
        "id": "x1eqr7Y-jP_t",
        "colab": {
          "base_uri": "https://localhost:8080/"
        },
        "outputId": "8444a85b-1f27-480d-d22c-2a244d301882"
      },
      "execution_count": 49,
      "outputs": [
        {
          "output_type": "execute_result",
          "data": {
            "text/plain": [
              "fa90fa5b1ee11c86938398b60abc32cb    459\n",
              "aa66486163b6cbc25ea62a34b11c9b91    315\n",
              "c00756f2bdd8fa88fc9f07a8309f7d5d    231\n",
              "b53c34474d9e24574bcec6a3d3306a0d    228\n",
              "ee2747ce26468ec44c7194e7d1d9dad9    156\n",
              "                                   ... \n",
              "89bc6d71d57ad5d7e952ed76559345c5      1\n",
              "8cfafc812c500eee7c112911ef668ce9      1\n",
              "8512e22c06a01cdc76481ff0a6e88b67      1\n",
              "48de9ff092328d54b2b371bc72b07b03      1\n",
              "79309f4027f2fedb4349a298c69fe56f      1\n",
              "Name: RescuerID, Length: 5595, dtype: int64"
            ]
          },
          "metadata": {},
          "execution_count": 49
        }
      ]
    },
    {
      "cell_type": "code",
      "source": [
        "df['VideoAmt'].value_counts()"
      ],
      "metadata": {
        "id": "A4D5hGG3jiz1",
        "colab": {
          "base_uri": "https://localhost:8080/"
        },
        "outputId": "c4c3529f-2592-48ce-b886-c6d7c96e03a0"
      },
      "execution_count": 50,
      "outputs": [
        {
          "output_type": "execute_result",
          "data": {
            "text/plain": [
              "0    14419\n",
              "1      417\n",
              "2       92\n",
              "3       36\n",
              "4       15\n",
              "5        7\n",
              "6        4\n",
              "8        2\n",
              "7        1\n",
              "Name: VideoAmt, dtype: int64"
            ]
          },
          "metadata": {},
          "execution_count": 50
        }
      ]
    },
    {
      "cell_type": "code",
      "source": [
        "df['VideoAmt'].value_counts() / df.shape[0]"
      ],
      "metadata": {
        "id": "r7s44BVCjueS",
        "colab": {
          "base_uri": "https://localhost:8080/"
        },
        "outputId": "f9769f77-46fa-4577-ad06-8dcc273a08e8"
      },
      "execution_count": 51,
      "outputs": [
        {
          "output_type": "execute_result",
          "data": {
            "text/plain": [
              "0    0.961715\n",
              "1    0.027813\n",
              "2    0.006136\n",
              "3    0.002401\n",
              "4    0.001000\n",
              "5    0.000467\n",
              "6    0.000267\n",
              "8    0.000133\n",
              "7    0.000067\n",
              "Name: VideoAmt, dtype: float64"
            ]
          },
          "metadata": {},
          "execution_count": 51
        }
      ]
    },
    {
      "cell_type": "code",
      "source": [
        "df['PhotoAmt'].value_counts()"
      ],
      "metadata": {
        "id": "tJYKmI4skBsT",
        "colab": {
          "base_uri": "https://localhost:8080/"
        },
        "outputId": "35df1fea-ab23-4140-9735-d2c73da22d09"
      },
      "execution_count": 52,
      "outputs": [
        {
          "output_type": "execute_result",
          "data": {
            "text/plain": [
              "1.0     3075\n",
              "2.0     2518\n",
              "3.0     2511\n",
              "5.0     2147\n",
              "4.0     1881\n",
              "6.0      621\n",
              "7.0      432\n",
              "0.0      341\n",
              "8.0      314\n",
              "9.0      231\n",
              "10.0     190\n",
              "11.0     184\n",
              "12.0      97\n",
              "13.0      86\n",
              "14.0      78\n",
              "15.0      50\n",
              "16.0      39\n",
              "17.0      27\n",
              "20.0      25\n",
              "19.0      20\n",
              "30.0      19\n",
              "18.0      18\n",
              "21.0      16\n",
              "24.0      15\n",
              "23.0      12\n",
              "26.0      10\n",
              "22.0       9\n",
              "25.0       8\n",
              "28.0       7\n",
              "27.0       6\n",
              "29.0       6\n",
              "Name: PhotoAmt, dtype: int64"
            ]
          },
          "metadata": {},
          "execution_count": 52
        }
      ]
    },
    {
      "cell_type": "code",
      "source": [
        "df['PhotoAmt'].hist()"
      ],
      "metadata": {
        "id": "f7LVr4GWkHPT",
        "colab": {
          "base_uri": "https://localhost:8080/",
          "height": 282
        },
        "outputId": "9a800134-1bc1-4e5b-8a7e-36353e4d243f"
      },
      "execution_count": 53,
      "outputs": [
        {
          "output_type": "execute_result",
          "data": {
            "text/plain": [
              "<matplotlib.axes._subplots.AxesSubplot at 0x7f106e2cbe50>"
            ]
          },
          "metadata": {},
          "execution_count": 53
        },
        {
          "output_type": "display_data",
          "data": {
            "text/plain": [
              "<Figure size 432x288 with 1 Axes>"
            ],
            "image/png": "[encoded data removed]"
          },
          "metadata": {
            "needs_background": "light"
          }
        }
      ]
    },
    {
      "cell_type": "code",
      "source": [
        "df['Description'].head()"
      ],
      "metadata": {
        "id": "qBqANqg_kc1H",
        "colab": {
          "base_uri": "https://localhost:8080/"
        },
        "outputId": "c316877f-0ae8-4119-a2a0-75f1cfd8058b"
      },
      "execution_count": 54,
      "outputs": [
        {
          "output_type": "execute_result",
          "data": {
            "text/plain": [
              "0    Nibble is a 3+ month old ball of cuteness. He ...\n",
              "1    I just found it alone yesterday near my apartm...\n",
              "2    Their pregnant mother was dumped by her irresp...\n",
              "3    Good guard dog, very alert, active, obedience ...\n",
              "4    This handsome yet cute boy is up for adoption....\n",
              "Name: Description, dtype: object"
            ]
          },
          "metadata": {},
          "execution_count": 54
        }
      ]
    },
    {
      "cell_type": "code",
      "source": [
        "df['Description'].fillna('')"
      ],
      "metadata": {
        "id": "U8K99IGAlGl3",
        "colab": {
          "base_uri": "https://localhost:8080/"
        },
        "outputId": "4b99da99-9f78-440e-b54b-5aff98582132"
      },
      "execution_count": 55,
      "outputs": [
        {
          "output_type": "execute_result",
          "data": {
            "text/plain": [
              "0        Nibble is a 3+ month old ball of cuteness. He ...\n",
              "1        I just found it alone yesterday near my apartm...\n",
              "2        Their pregnant mother was dumped by her irresp...\n",
              "3        Good guard dog, very alert, active, obedience ...\n",
              "4        This handsome yet cute boy is up for adoption....\n",
              "                               ...                        \n",
              "14988    I have 4 kittens that need to be adopt urgentl...\n",
              "14989    Serato(female cat- 3 color) is 4 years old and...\n",
              "14990    Mix breed, good temperament kittens. Love huma...\n",
              "14991    she is very shy..adventures and independent..s...\n",
              "14992    Fili just loves laying around and also loves b...\n",
              "Name: Description, Length: 14993, dtype: object"
            ]
          },
          "metadata": {},
          "execution_count": 55
        }
      ]
    },
    {
      "cell_type": "code",
      "source": [
        " pd.Series(' '.join(df['Description'].fillna('')).lower().split()).value_counts()[:10]"
      ],
      "metadata": {
        "id": "k46RLMcWktIi",
        "colab": {
          "base_uri": "https://localhost:8080/"
        },
        "outputId": "895355ff-e5ca-4d34-8732-c9a05e77963f"
      },
      "execution_count": 56,
      "outputs": [
        {
          "output_type": "execute_result",
          "data": {
            "text/plain": [
              "and    31233\n",
              "to     29201\n",
              "a      24276\n",
              "the    18593\n",
              "is     18273\n",
              "for    14597\n",
              "i      11002\n",
              "she    10150\n",
              "of     10146\n",
              "her     9305\n",
              "dtype: int64"
            ]
          },
          "metadata": {},
          "execution_count": 56
        }
      ]
    },
    {
      "cell_type": "markdown",
      "source": [
        "### Conclusions"
      ],
      "metadata": {
        "id": "giSk_RED3Cs_"
      }
    },
    {
      "cell_type": "markdown",
      "source": [
        "- **PetID** is a unique identifier with no duplicates or null values. Since it is an identifier it should not be used in our analysis.\n",
        "- **AdoptionSpeed** indeed has 5 possible values (0-4) and no null values. There are significantly less pets being adopted on the same day (AdoptionSpeed = 0), which makes sense.\n",
        "- **Type** has indeed only two values and no null values. There are more dogs than cats in the dataset.\n",
        "> 💭 One interesting future analysis could be to analyse the model's performance comparing cats and dogs, and maybe even have a different model for cats and dogs.\n",
        "- **Name** is not a unique field, but it has 9061 unique values nevertheless. Analyzing the 50 most common names, we can see that 1257 values are null, 81 of them are filled as \"No Name\", \"No Name Yet\" or \"Unnamed\", and 141 of them are filled as \"Dog\", \"Cat\", \"Puppy\", \"Kitten\" and variants. Because of its high cardinality it is not advisable to use the Name as a model variable, but maybe we can extract some interesting value out of it using Feature Engineering and NLP (extracting the prefix of the name, for example).\n",
        "> 💭 We could check if having a name already influences the adoption speed of the pet. It is possible that they could be missing a name because they are too young or were found as stray pets. We could also check extracting the prefix of the Name could bring some valuable insight into the model (for example, is \"Princess\" more likely to get adopted faster than \"Lucky\"?)\n",
        "- **Age**: the youngest pet has 0 months and the oldest is 21 years old, which could be rare but still possible.\n",
        "- **Breed1** presents the pets' primary breeds. The 5 most frequent breeds for dogs are Mixed Breed (72% of the dogs), Labrador Retriever (3%), Shih Tzu (2%), Poodle (2%), and Terrier (2%). We can also see that there are variants of the same breed (for example \"Chocolate Labrador Retriever\"), so using some sort of data engineering regarding breeds could be useful. There are 116 different primary breeds for dogs. The 5 most frequent breeds for cats are Domestic Short Hair (53%), Domestic Medium Hair (18%), Tabby (5%), Domestic Long Hair (4%), and Siamese (4%). There are 59 different primary breeds for cats.\n",
        "> 💭 We could just use the \"Mixed Breed\" and \"Domestic\" breeds as another feature and see if it brings more value than using every breed as a feature.\n",
        "- **Gender** There are more female pets (57%) than male ones (43%) among the ones in singular pet posts (not considering Gender = 3).\n",
        "- **Color1** presents 50% black pets, 25% brown pets and 25% other colors.\n",
        "- **MaturitySize** presents 4 different values, not presenting the 0 value which stands for \"Not Specified\". Medium size represents 69% of the pets, followed by small size (23%), large size (8%), and extra large (0.2%).\n",
        "- **FurLength** presents 3 different values, not presenting the 0 value which stands for \"Not Specified\". Short represents 59% of the pets, followed by medium (36%), and long (5%).\n",
        "- **Vaccinated** indeed presents 3 different values. 48% of the pets aren't vaccinated, 39% of them are and 12% of them present \"not sure\".\n",
        "- **Dewormed** indeed presents 3 different values. 56% of the pets have been dewormed, 32% of them haven't and 12% of them present \"not sure\".\n",
        "- **Sterilized** indeed presents 3 different values. 67% of the pets haven't been spayed / neutered, 21% of them have and 12% of them present \"not sure\".\n",
        "- **Health** presents 3 different values, not presenting the 0 value which stands for \"Not Specified\". 97% of the pets are healthy, 3% of them have minor injuries and 2% of them have serious injuries.\n",
        "- **Quantity**: 77% of the pet posts are of only one pet. The quantity of pets ranges from 1 to 20.\n",
        "- **Fee** ranges from 0 to 3000. The top 5 most frequent values are 0 (84%), 50 (3%), 100 (2%), 200 (1%), and 150 (1%).\n",
        "- **RescuerID** is not unique in the dataset. The rescuers that rescued the most pets have rescued 459, 315, 231, 228, and 156 pets respectively.\n",
        "- **VideoAmt** has values from 0 to 7 representing how many videos a pet has. 96% of pets don't have a video and one pet has 7 videos.\n",
        "- **PhotoAmt**: there are more pets with 1-7 photos than pets with no photo. 19 pets have the highest number of photos (30).\n",
        "- **Description** has 12 rows with null values. It presents many stop words and need a deeper data cleaning process using NLP tools.\n",
        "\n"
      ],
      "metadata": {
        "id": "IdJpSsliVIG2"
      }
    },
    {
      "cell_type": "markdown",
      "source": [
        "## Removing noisy data"
      ],
      "metadata": {
        "id": "iZcBizNLmSm6"
      }
    },
    {
      "cell_type": "markdown",
      "source": [
        "*A priori* we didn't identify noisy data. We might revisit this in the future."
      ],
      "metadata": {
        "id": "LUgq7l2vmWma"
      }
    },
    {
      "cell_type": "markdown",
      "source": [
        "## Normalizing/scaling/Standardization"
      ],
      "metadata": {
        "id": "zk3IFGqzmh3H"
      }
    },
    {
      "cell_type": "markdown",
      "source": [
        "According to [this source](https://www.analyticsvidhya.com/blog/2020/04/feature-scaling-machine-learning-normalization-standardization/):\n",
        "\n",
        "> **Normalization is good to use when you know that the distribution of your data does not follow a Gaussian distribution.** This can be useful in algorithms that do not assume any distribution of the data like K-Nearest Neighbors and Neural Networks.\n",
        "\n",
        "> Standardization, on the other hand, can be helpful in cases where the data follows a Gaussian distribution. However, this does not have to be necessarily true. Also, unlike normalization, standardization does not have a bounding range. So, even if you have outliers in your data, they will not be affected by standardization.\n",
        "\n",
        "> However, at the end of the day, the choice of using normalization or standardization will depend on your problem and the machine learning algorithm you are using. There is no hard and fast rule to tell you when to normalize or standardize your data. You can always start by fitting your model to raw, normalized and standardized data and compare the performance for best results.\n",
        "\n",
        "Therefore we will try both approaches, but start with normalization. Since it's best to fit the normalizing model only with the training data, this step will be done later."
      ],
      "metadata": {
        "id": "AeuaCUWvnEab"
      }
    },
    {
      "cell_type": "markdown",
      "source": [
        "## Writing results to a CSV file"
      ],
      "metadata": {
        "id": "NpwwasXRV8RA"
      }
    },
    {
      "cell_type": "code",
      "source": [
        "df.to_csv(path_to_dir + 'pets.csv', index=False)"
      ],
      "metadata": {
        "id": "ZYOWcEv2WDyY"
      },
      "execution_count": 59,
      "outputs": []
    }
  ]
}