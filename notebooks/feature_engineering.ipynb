{
  "nbformat": 4,
  "nbformat_minor": 0,
  "metadata": {
    "colab": {
      "name": "feature-engineering.ipynb",
      "provenance": [],
      "collapsed_sections": [],
      "include_colab_link": true
    },
    "kernelspec": {
      "name": "python3",
      "display_name": "Python 3"
    },
    "language_info": {
      "name": "python"
    }
  },
  "cells": [
    {
      "cell_type": "markdown",
      "metadata": {
        "id": "view-in-github",
        "colab_type": "text"
      },
      "source": [
        "<a href=\"https://colab.research.google.com/github/nicolezk/pet-adoption-prediction/blob/main/notebooks/feature_engineering.ipynb\" target=\"_parent\"><img src=\"https://colab.research.google.com/assets/colab-badge.svg\" alt=\"Open In Colab\"/></a>"
      ]
    },
    {
      "cell_type": "markdown",
      "source": [
        "## Notebook Configuration"
      ],
      "metadata": {
        "id": "4giVI5QYt0Eo"
      }
    },
    {
      "cell_type": "code",
      "source": [
        "# Mount Google Drive to obtain the data\n",
        "from google.colab import drive\n",
        "drive.mount('/content/drive')"
      ],
      "metadata": {
        "id": "5aqGbw3st_cH",
        "colab": {
          "base_uri": "https://localhost:8080/"
        },
        "outputId": "93e65c61-bd71-40ea-b87b-6662663a9ab1"
      },
      "execution_count": 1,
      "outputs": [
        {
          "output_type": "stream",
          "name": "stdout",
          "text": [
            "Mounted at /content/drive\n"
          ]
        }
      ]
    },
    {
      "cell_type": "code",
      "source": [
        "# Import libraries\n",
        "import pandas as pd\n",
        "import numpy as np"
      ],
      "metadata": {
        "id": "DwVomMlKvOc9"
      },
      "execution_count": 2,
      "outputs": []
    },
    {
      "cell_type": "code",
      "source": [
        "# Read data\n",
        "df = pd.read_csv('/content/drive/MyDrive/ML - Project/data/pets_outliers_removed.csv')"
      ],
      "metadata": {
        "id": "AMCS0-hkvSA1"
      },
      "execution_count": 3,
      "outputs": []
    },
    {
      "cell_type": "markdown",
      "source": [
        "## Helper Functions"
      ],
      "metadata": {
        "id": "u8n-A8jPSxg6"
      }
    },
    {
      "cell_type": "code",
      "source": [
        "def apply_get_dummies_for_k_most_frequent_categories(df, column, k):\n",
        "  k_most_frequent_categories = df[column].value_counts()[:k].index\n",
        "  df = pd.concat([df, pd.get_dummies(pd.Categorical(df[column], categories=k_most_frequent_categories), prefix=column)], axis=1)\n",
        "  df = df.drop(columns=[column])\n",
        "  return df"
      ],
      "metadata": {
        "id": "kHtcAmviSv7h"
      },
      "execution_count": 4,
      "outputs": []
    },
    {
      "cell_type": "markdown",
      "source": [
        "## Feature Engineering"
      ],
      "metadata": {
        "id": "UNwbywwRzuVh"
      }
    },
    {
      "cell_type": "markdown",
      "source": [
        "Observations from previous analyses:\n",
        "- [X] PetID should be dropped as it is a unique identifier\n",
        "- [X] The label identifiers can be dropped (e.g. Breed1, Breed2, Color1, Color2, etc.)\n",
        "- [X] We can drop the columns BreedType1 and BreedType2 and only keep Type since they have the same information\n",
        "- [X] Since Color3Name has 70% of its values null we could drop such column\n",
        "- [x] Since Name has too many different values we could make a feature to check if the pet has a name or not\n",
        "- [X] Additionally we could use the X% most common names as features to see if it improves the model\n",
        "- [X] Instead of using breed names, we could use features such as \"Mixed Breed\", \"Domestic\" and \"Pure bred\"\n",
        "- [X] We could use the X% most common pet rescuer IDs to see if the rescuer has influence in the adoption speed\n",
        "- [X] StateNames have too many values. We could use the X% most frequent ones as features"
      ],
      "metadata": {
        "id": "9DnwRJDnz-qt"
      }
    },
    {
      "cell_type": "code",
      "source": [
        "# Drop columns\n",
        "df = df.drop(columns=['PetID','Breed1Type','Breed2Type','Breed1','Breed2','Color1','Color2','Color3','Color3Name','State'])"
      ],
      "metadata": {
        "id": "nEYpm6NBzgcI"
      },
      "execution_count": 5,
      "outputs": []
    },
    {
      "cell_type": "code",
      "source": [
        "# Handle names\n",
        "df['Name'] = df['Name'].str.lower()\n",
        "\n",
        "unnamed_list_regex = '(pup)|(kitt)|(dog)|(cat)|(name)|(unknown)'\n",
        "\n",
        "df[\"Named\"] = np.where(df['Name'].str.contains(unnamed_list_regex, regex= True), 0, 1)\n",
        "df.loc[df['Name'].isna(),\"Named\"] = 0\n",
        "\n",
        "df.loc[df['Named'] == 0,\"Name\"] = np.nan\n",
        "\n",
        "df = apply_get_dummies_for_k_most_frequent_categories(df, 'Name', 5)"
      ],
      "metadata": {
        "id": "9IzTByPd80PC",
        "colab": {
          "base_uri": "https://localhost:8080/"
        },
        "outputId": "4e8e53c1-f3dd-4386-ea23-b2554a0aa99d"
      },
      "execution_count": 6,
      "outputs": [
        {
          "output_type": "stream",
          "name": "stderr",
          "text": [
            "/usr/local/lib/python3.7/dist-packages/ipykernel_launcher.py:6: UserWarning: This pattern has match groups. To actually get the groups, use str.extract.\n",
            "  \n"
          ]
        }
      ]
    },
    {
      "cell_type": "code",
      "source": [
        "# Handle breeds\n",
        "df[\"Mixed_Breed\"] = np.where(df['Breed1Name'] == 'Mixed Breed', 1, 0)\n",
        "df[\"Domestic\"] = np.where(df['Breed1Name'].str.contains('Domestic'), 1, 0)\n",
        "df[\"Pure_Breed\"] = np.where((df[\"Breed1Name\"]!='Mixed Breed') & (df['Breed2Name'].isna()), 1, 0)\n",
        "df = df.drop(columns=['Breed1Name','Breed2Name'])"
      ],
      "metadata": {
        "id": "90KyGJGx9jOO"
      },
      "execution_count": 7,
      "outputs": []
    },
    {
      "cell_type": "code",
      "source": [
        "# RescuerID\n",
        "df = apply_get_dummies_for_k_most_frequent_categories(df, 'RescuerID', 5)"
      ],
      "metadata": {
        "id": "4Zprjt5d8xed"
      },
      "execution_count": 8,
      "outputs": []
    },
    {
      "cell_type": "code",
      "source": [
        "# StateName\n",
        "# df['StateName'].value_counts()\n",
        "df = apply_get_dummies_for_k_most_frequent_categories(df, 'StateName', 2)"
      ],
      "metadata": {
        "id": "hM4bqreZGFjN"
      },
      "execution_count": 9,
      "outputs": []
    },
    {
      "cell_type": "markdown",
      "source": [
        "## Writing results to a CSV file"
      ],
      "metadata": {
        "id": "NpwwasXRV8RA"
      }
    },
    {
      "cell_type": "code",
      "source": [
        "df.to_csv('/content/drive/MyDrive/ML - Project/data/pets_feature_engineering.csv', index=False)"
      ],
      "metadata": {
        "id": "ZYOWcEv2WDyY"
      },
      "execution_count": 10,
      "outputs": []
    }
  ]
}